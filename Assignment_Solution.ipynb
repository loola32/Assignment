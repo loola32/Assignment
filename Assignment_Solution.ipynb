{
 "cells": [
  {
   "cell_type": "markdown",
   "metadata": {},
   "source": [
    "# Assignment Solution"
   ]
  },
  {
   "cell_type": "markdown",
   "metadata": {},
   "source": [
    "### Importing packages and files"
   ]
  },
  {
   "cell_type": "code",
   "execution_count": 588,
   "metadata": {},
   "outputs": [],
   "source": [
    "import pandas as pd"
   ]
  },
  {
   "cell_type": "code",
   "execution_count": 589,
   "metadata": {},
   "outputs": [],
   "source": [
    "order_list=pd.read_csv('C:/Users/lmeer/Documents/Personal/Assignments/Robotics/assignment_1_order_list (3).csv', index_col=0)"
   ]
  },
  {
   "cell_type": "code",
   "execution_count": 590,
   "metadata": {},
   "outputs": [],
   "source": [
    "status_list=pd.read_csv('C:/Users/lmeer/Documents/Personal/Assignments/Robotics/assignment_1_status_list (1) (3).csv', index_col=0)"
   ]
  },
  {
   "cell_type": "markdown",
   "metadata": {},
   "source": [
    "#### Converting the datasets into DataFrames "
   ]
  },
  {
   "cell_type": "code",
   "execution_count": 591,
   "metadata": {},
   "outputs": [],
   "source": [
    "orders=pd.DataFrame(order_list)"
   ]
  },
  {
   "cell_type": "code",
   "execution_count": 592,
   "metadata": {},
   "outputs": [],
   "source": [
    "statuses=pd.DataFrame(status_list)"
   ]
  },
  {
   "cell_type": "markdown",
   "metadata": {},
   "source": [
    "#### Exploring the two datasets"
   ]
  },
  {
   "cell_type": "code",
   "execution_count": 593,
   "metadata": {},
   "outputs": [
    {
     "data": {
      "text/html": [
       "<div>\n",
       "<style scoped>\n",
       "    .dataframe tbody tr th:only-of-type {\n",
       "        vertical-align: middle;\n",
       "    }\n",
       "\n",
       "    .dataframe tbody tr th {\n",
       "        vertical-align: top;\n",
       "    }\n",
       "\n",
       "    .dataframe thead th {\n",
       "        text-align: right;\n",
       "    }\n",
       "</style>\n",
       "<table border=\"1\" class=\"dataframe\">\n",
       "  <thead>\n",
       "    <tr style=\"text-align: right;\">\n",
       "      <th></th>\n",
       "      <th>ORDER_CREATED_AT</th>\n",
       "      <th>DELIVERY_SCHEDULE</th>\n",
       "      <th>TRIP_ID</th>\n",
       "      <th>NUM_OF_LINES</th>\n",
       "    </tr>\n",
       "    <tr>\n",
       "      <th>ORDER_ID</th>\n",
       "      <th></th>\n",
       "      <th></th>\n",
       "      <th></th>\n",
       "      <th></th>\n",
       "    </tr>\n",
       "  </thead>\n",
       "  <tbody>\n",
       "    <tr>\n",
       "      <th>2245835</th>\n",
       "      <td>2019-06-13 21:48:54</td>\n",
       "      <td>2019-06-14 11:30:00</td>\n",
       "      <td>s_2019-06-14_14:30</td>\n",
       "      <td>6</td>\n",
       "    </tr>\n",
       "    <tr>\n",
       "      <th>2247282</th>\n",
       "      <td>2019-06-13 21:18:53</td>\n",
       "      <td>2019-06-14 11:30:00</td>\n",
       "      <td>s_2019-06-14_14:30</td>\n",
       "      <td>5</td>\n",
       "    </tr>\n",
       "    <tr>\n",
       "      <th>2247281</th>\n",
       "      <td>2019-06-13 21:16:53</td>\n",
       "      <td>2019-06-14 11:30:00</td>\n",
       "      <td>s_2019-06-14_14:30</td>\n",
       "      <td>10</td>\n",
       "    </tr>\n",
       "    <tr>\n",
       "      <th>2244971</th>\n",
       "      <td>2019-06-13 21:05:56</td>\n",
       "      <td>2019-06-14 11:30:00</td>\n",
       "      <td>s_2019-06-14_14:30</td>\n",
       "      <td>11</td>\n",
       "    </tr>\n",
       "    <tr>\n",
       "      <th>2244970</th>\n",
       "      <td>2019-06-13 21:02:54</td>\n",
       "      <td>2019-06-14 11:30:00</td>\n",
       "      <td>s_2019-06-14_14:30</td>\n",
       "      <td>6</td>\n",
       "    </tr>\n",
       "  </tbody>\n",
       "</table>\n",
       "</div>"
      ],
      "text/plain": [
       "             ORDER_CREATED_AT    DELIVERY_SCHEDULE             TRIP_ID  \\\n",
       "ORDER_ID                                                                 \n",
       "2245835   2019-06-13 21:48:54  2019-06-14 11:30:00  s_2019-06-14_14:30   \n",
       "2247282   2019-06-13 21:18:53  2019-06-14 11:30:00  s_2019-06-14_14:30   \n",
       "2247281   2019-06-13 21:16:53  2019-06-14 11:30:00  s_2019-06-14_14:30   \n",
       "2244971   2019-06-13 21:05:56  2019-06-14 11:30:00  s_2019-06-14_14:30   \n",
       "2244970   2019-06-13 21:02:54  2019-06-14 11:30:00  s_2019-06-14_14:30   \n",
       "\n",
       "          NUM_OF_LINES  \n",
       "ORDER_ID                \n",
       "2245835              6  \n",
       "2247282              5  \n",
       "2247281             10  \n",
       "2244971             11  \n",
       "2244970              6  "
      ]
     },
     "execution_count": 593,
     "metadata": {},
     "output_type": "execute_result"
    }
   ],
   "source": [
    "orders.head()"
   ]
  },
  {
   "cell_type": "code",
   "execution_count": 594,
   "metadata": {},
   "outputs": [
    {
     "data": {
      "text/html": [
       "<div>\n",
       "<style scoped>\n",
       "    .dataframe tbody tr th:only-of-type {\n",
       "        vertical-align: middle;\n",
       "    }\n",
       "\n",
       "    .dataframe tbody tr th {\n",
       "        vertical-align: top;\n",
       "    }\n",
       "\n",
       "    .dataframe thead th {\n",
       "        text-align: right;\n",
       "    }\n",
       "</style>\n",
       "<table border=\"1\" class=\"dataframe\">\n",
       "  <thead>\n",
       "    <tr style=\"text-align: right;\">\n",
       "      <th></th>\n",
       "      <th>ORDER_STATUS</th>\n",
       "      <th>STATUS_TIME</th>\n",
       "    </tr>\n",
       "    <tr>\n",
       "      <th>ORDER_ID</th>\n",
       "      <th></th>\n",
       "      <th></th>\n",
       "    </tr>\n",
       "  </thead>\n",
       "  <tbody>\n",
       "    <tr>\n",
       "      <th>2237317</th>\n",
       "      <td>in_progress</td>\n",
       "      <td>2019-06-10 01:07:29</td>\n",
       "    </tr>\n",
       "    <tr>\n",
       "      <th>2234747</th>\n",
       "      <td>in_progress</td>\n",
       "      <td>2019-06-10 02:43:28</td>\n",
       "    </tr>\n",
       "    <tr>\n",
       "      <th>2237334</th>\n",
       "      <td>in_progress</td>\n",
       "      <td>2019-06-10 04:11:28</td>\n",
       "    </tr>\n",
       "    <tr>\n",
       "      <th>2234763</th>\n",
       "      <td>in_progress</td>\n",
       "      <td>2019-06-10 04:22:29</td>\n",
       "    </tr>\n",
       "    <tr>\n",
       "      <th>2237343</th>\n",
       "      <td>in_progress</td>\n",
       "      <td>2019-06-10 04:26:29</td>\n",
       "    </tr>\n",
       "  </tbody>\n",
       "</table>\n",
       "</div>"
      ],
      "text/plain": [
       "         ORDER_STATUS          STATUS_TIME\n",
       "ORDER_ID                                  \n",
       "2237317   in_progress  2019-06-10 01:07:29\n",
       "2234747   in_progress  2019-06-10 02:43:28\n",
       "2237334   in_progress  2019-06-10 04:11:28\n",
       "2234763   in_progress  2019-06-10 04:22:29\n",
       "2237343   in_progress  2019-06-10 04:26:29"
      ]
     },
     "execution_count": 594,
     "metadata": {},
     "output_type": "execute_result"
    }
   ],
   "source": [
    "statuses.head()"
   ]
  },
  {
   "cell_type": "markdown",
   "metadata": {},
   "source": [
    "<font color=purple>__Since both of the datasets have ORDER_ID as an index and it doesn't contribute any ease of access to information, I will reset it and convert it to a column in the dataframe__</font>"
   ]
  },
  {
   "cell_type": "code",
   "execution_count": 595,
   "metadata": {},
   "outputs": [],
   "source": [
    "orders.reset_index(inplace=True)"
   ]
  },
  {
   "cell_type": "code",
   "execution_count": 596,
   "metadata": {},
   "outputs": [],
   "source": [
    "statuses.reset_index(inplace=True)"
   ]
  },
  {
   "cell_type": "code",
   "execution_count": 597,
   "metadata": {},
   "outputs": [
    {
     "data": {
      "text/html": [
       "<div>\n",
       "<style scoped>\n",
       "    .dataframe tbody tr th:only-of-type {\n",
       "        vertical-align: middle;\n",
       "    }\n",
       "\n",
       "    .dataframe tbody tr th {\n",
       "        vertical-align: top;\n",
       "    }\n",
       "\n",
       "    .dataframe thead th {\n",
       "        text-align: right;\n",
       "    }\n",
       "</style>\n",
       "<table border=\"1\" class=\"dataframe\">\n",
       "  <thead>\n",
       "    <tr style=\"text-align: right;\">\n",
       "      <th></th>\n",
       "      <th>ORDER_ID</th>\n",
       "      <th>ORDER_CREATED_AT</th>\n",
       "      <th>DELIVERY_SCHEDULE</th>\n",
       "      <th>TRIP_ID</th>\n",
       "      <th>NUM_OF_LINES</th>\n",
       "    </tr>\n",
       "  </thead>\n",
       "  <tbody>\n",
       "    <tr>\n",
       "      <th>0</th>\n",
       "      <td>2245835</td>\n",
       "      <td>2019-06-13 21:48:54</td>\n",
       "      <td>2019-06-14 11:30:00</td>\n",
       "      <td>s_2019-06-14_14:30</td>\n",
       "      <td>6</td>\n",
       "    </tr>\n",
       "    <tr>\n",
       "      <th>1</th>\n",
       "      <td>2247282</td>\n",
       "      <td>2019-06-13 21:18:53</td>\n",
       "      <td>2019-06-14 11:30:00</td>\n",
       "      <td>s_2019-06-14_14:30</td>\n",
       "      <td>5</td>\n",
       "    </tr>\n",
       "    <tr>\n",
       "      <th>2</th>\n",
       "      <td>2247281</td>\n",
       "      <td>2019-06-13 21:16:53</td>\n",
       "      <td>2019-06-14 11:30:00</td>\n",
       "      <td>s_2019-06-14_14:30</td>\n",
       "      <td>10</td>\n",
       "    </tr>\n",
       "    <tr>\n",
       "      <th>3</th>\n",
       "      <td>2244971</td>\n",
       "      <td>2019-06-13 21:05:56</td>\n",
       "      <td>2019-06-14 11:30:00</td>\n",
       "      <td>s_2019-06-14_14:30</td>\n",
       "      <td>11</td>\n",
       "    </tr>\n",
       "    <tr>\n",
       "      <th>4</th>\n",
       "      <td>2244970</td>\n",
       "      <td>2019-06-13 21:02:54</td>\n",
       "      <td>2019-06-14 11:30:00</td>\n",
       "      <td>s_2019-06-14_14:30</td>\n",
       "      <td>6</td>\n",
       "    </tr>\n",
       "  </tbody>\n",
       "</table>\n",
       "</div>"
      ],
      "text/plain": [
       "  ORDER_ID     ORDER_CREATED_AT    DELIVERY_SCHEDULE             TRIP_ID  \\\n",
       "0  2245835  2019-06-13 21:48:54  2019-06-14 11:30:00  s_2019-06-14_14:30   \n",
       "1  2247282  2019-06-13 21:18:53  2019-06-14 11:30:00  s_2019-06-14_14:30   \n",
       "2  2247281  2019-06-13 21:16:53  2019-06-14 11:30:00  s_2019-06-14_14:30   \n",
       "3  2244971  2019-06-13 21:05:56  2019-06-14 11:30:00  s_2019-06-14_14:30   \n",
       "4  2244970  2019-06-13 21:02:54  2019-06-14 11:30:00  s_2019-06-14_14:30   \n",
       "\n",
       "   NUM_OF_LINES  \n",
       "0             6  \n",
       "1             5  \n",
       "2            10  \n",
       "3            11  \n",
       "4             6  "
      ]
     },
     "execution_count": 597,
     "metadata": {},
     "output_type": "execute_result"
    }
   ],
   "source": [
    "orders.head()"
   ]
  },
  {
   "cell_type": "code",
   "execution_count": 598,
   "metadata": {},
   "outputs": [
    {
     "data": {
      "text/html": [
       "<div>\n",
       "<style scoped>\n",
       "    .dataframe tbody tr th:only-of-type {\n",
       "        vertical-align: middle;\n",
       "    }\n",
       "\n",
       "    .dataframe tbody tr th {\n",
       "        vertical-align: top;\n",
       "    }\n",
       "\n",
       "    .dataframe thead th {\n",
       "        text-align: right;\n",
       "    }\n",
       "</style>\n",
       "<table border=\"1\" class=\"dataframe\">\n",
       "  <thead>\n",
       "    <tr style=\"text-align: right;\">\n",
       "      <th></th>\n",
       "      <th>ORDER_ID</th>\n",
       "      <th>ORDER_STATUS</th>\n",
       "      <th>STATUS_TIME</th>\n",
       "    </tr>\n",
       "  </thead>\n",
       "  <tbody>\n",
       "    <tr>\n",
       "      <th>0</th>\n",
       "      <td>2237317</td>\n",
       "      <td>in_progress</td>\n",
       "      <td>2019-06-10 01:07:29</td>\n",
       "    </tr>\n",
       "    <tr>\n",
       "      <th>1</th>\n",
       "      <td>2234747</td>\n",
       "      <td>in_progress</td>\n",
       "      <td>2019-06-10 02:43:28</td>\n",
       "    </tr>\n",
       "    <tr>\n",
       "      <th>2</th>\n",
       "      <td>2237334</td>\n",
       "      <td>in_progress</td>\n",
       "      <td>2019-06-10 04:11:28</td>\n",
       "    </tr>\n",
       "    <tr>\n",
       "      <th>3</th>\n",
       "      <td>2234763</td>\n",
       "      <td>in_progress</td>\n",
       "      <td>2019-06-10 04:22:29</td>\n",
       "    </tr>\n",
       "    <tr>\n",
       "      <th>4</th>\n",
       "      <td>2237343</td>\n",
       "      <td>in_progress</td>\n",
       "      <td>2019-06-10 04:26:29</td>\n",
       "    </tr>\n",
       "  </tbody>\n",
       "</table>\n",
       "</div>"
      ],
      "text/plain": [
       "  ORDER_ID ORDER_STATUS          STATUS_TIME\n",
       "0  2237317  in_progress  2019-06-10 01:07:29\n",
       "1  2234747  in_progress  2019-06-10 02:43:28\n",
       "2  2237334  in_progress  2019-06-10 04:11:28\n",
       "3  2234763  in_progress  2019-06-10 04:22:29\n",
       "4  2237343  in_progress  2019-06-10 04:26:29"
      ]
     },
     "execution_count": 598,
     "metadata": {},
     "output_type": "execute_result"
    }
   ],
   "source": [
    "statuses.head()"
   ]
  },
  {
   "cell_type": "markdown",
   "metadata": {},
   "source": [
    "<font color=purple>__Changing the upper case to lower for the column names so it would be easier to work with down the road__</font>"
   ]
  },
  {
   "cell_type": "code",
   "execution_count": 599,
   "metadata": {},
   "outputs": [],
   "source": [
    "orders.columns=orders.columns.str.lower()"
   ]
  },
  {
   "cell_type": "code",
   "execution_count": 600,
   "metadata": {},
   "outputs": [],
   "source": [
    "statuses.columns=statuses.columns.str.lower()"
   ]
  },
  {
   "cell_type": "code",
   "execution_count": 601,
   "metadata": {},
   "outputs": [
    {
     "data": {
      "text/html": [
       "<div>\n",
       "<style scoped>\n",
       "    .dataframe tbody tr th:only-of-type {\n",
       "        vertical-align: middle;\n",
       "    }\n",
       "\n",
       "    .dataframe tbody tr th {\n",
       "        vertical-align: top;\n",
       "    }\n",
       "\n",
       "    .dataframe thead th {\n",
       "        text-align: right;\n",
       "    }\n",
       "</style>\n",
       "<table border=\"1\" class=\"dataframe\">\n",
       "  <thead>\n",
       "    <tr style=\"text-align: right;\">\n",
       "      <th></th>\n",
       "      <th>order_id</th>\n",
       "      <th>order_created_at</th>\n",
       "      <th>delivery_schedule</th>\n",
       "      <th>trip_id</th>\n",
       "      <th>num_of_lines</th>\n",
       "    </tr>\n",
       "  </thead>\n",
       "  <tbody>\n",
       "    <tr>\n",
       "      <th>0</th>\n",
       "      <td>2245835</td>\n",
       "      <td>2019-06-13 21:48:54</td>\n",
       "      <td>2019-06-14 11:30:00</td>\n",
       "      <td>s_2019-06-14_14:30</td>\n",
       "      <td>6</td>\n",
       "    </tr>\n",
       "    <tr>\n",
       "      <th>1</th>\n",
       "      <td>2247282</td>\n",
       "      <td>2019-06-13 21:18:53</td>\n",
       "      <td>2019-06-14 11:30:00</td>\n",
       "      <td>s_2019-06-14_14:30</td>\n",
       "      <td>5</td>\n",
       "    </tr>\n",
       "    <tr>\n",
       "      <th>2</th>\n",
       "      <td>2247281</td>\n",
       "      <td>2019-06-13 21:16:53</td>\n",
       "      <td>2019-06-14 11:30:00</td>\n",
       "      <td>s_2019-06-14_14:30</td>\n",
       "      <td>10</td>\n",
       "    </tr>\n",
       "    <tr>\n",
       "      <th>3</th>\n",
       "      <td>2244971</td>\n",
       "      <td>2019-06-13 21:05:56</td>\n",
       "      <td>2019-06-14 11:30:00</td>\n",
       "      <td>s_2019-06-14_14:30</td>\n",
       "      <td>11</td>\n",
       "    </tr>\n",
       "    <tr>\n",
       "      <th>4</th>\n",
       "      <td>2244970</td>\n",
       "      <td>2019-06-13 21:02:54</td>\n",
       "      <td>2019-06-14 11:30:00</td>\n",
       "      <td>s_2019-06-14_14:30</td>\n",
       "      <td>6</td>\n",
       "    </tr>\n",
       "  </tbody>\n",
       "</table>\n",
       "</div>"
      ],
      "text/plain": [
       "  order_id     order_created_at    delivery_schedule             trip_id  \\\n",
       "0  2245835  2019-06-13 21:48:54  2019-06-14 11:30:00  s_2019-06-14_14:30   \n",
       "1  2247282  2019-06-13 21:18:53  2019-06-14 11:30:00  s_2019-06-14_14:30   \n",
       "2  2247281  2019-06-13 21:16:53  2019-06-14 11:30:00  s_2019-06-14_14:30   \n",
       "3  2244971  2019-06-13 21:05:56  2019-06-14 11:30:00  s_2019-06-14_14:30   \n",
       "4  2244970  2019-06-13 21:02:54  2019-06-14 11:30:00  s_2019-06-14_14:30   \n",
       "\n",
       "   num_of_lines  \n",
       "0             6  \n",
       "1             5  \n",
       "2            10  \n",
       "3            11  \n",
       "4             6  "
      ]
     },
     "execution_count": 601,
     "metadata": {},
     "output_type": "execute_result"
    }
   ],
   "source": [
    "orders.head()"
   ]
  },
  {
   "cell_type": "code",
   "execution_count": 602,
   "metadata": {},
   "outputs": [
    {
     "data": {
      "text/html": [
       "<div>\n",
       "<style scoped>\n",
       "    .dataframe tbody tr th:only-of-type {\n",
       "        vertical-align: middle;\n",
       "    }\n",
       "\n",
       "    .dataframe tbody tr th {\n",
       "        vertical-align: top;\n",
       "    }\n",
       "\n",
       "    .dataframe thead th {\n",
       "        text-align: right;\n",
       "    }\n",
       "</style>\n",
       "<table border=\"1\" class=\"dataframe\">\n",
       "  <thead>\n",
       "    <tr style=\"text-align: right;\">\n",
       "      <th></th>\n",
       "      <th>order_id</th>\n",
       "      <th>order_status</th>\n",
       "      <th>status_time</th>\n",
       "    </tr>\n",
       "  </thead>\n",
       "  <tbody>\n",
       "    <tr>\n",
       "      <th>0</th>\n",
       "      <td>2237317</td>\n",
       "      <td>in_progress</td>\n",
       "      <td>2019-06-10 01:07:29</td>\n",
       "    </tr>\n",
       "    <tr>\n",
       "      <th>1</th>\n",
       "      <td>2234747</td>\n",
       "      <td>in_progress</td>\n",
       "      <td>2019-06-10 02:43:28</td>\n",
       "    </tr>\n",
       "    <tr>\n",
       "      <th>2</th>\n",
       "      <td>2237334</td>\n",
       "      <td>in_progress</td>\n",
       "      <td>2019-06-10 04:11:28</td>\n",
       "    </tr>\n",
       "    <tr>\n",
       "      <th>3</th>\n",
       "      <td>2234763</td>\n",
       "      <td>in_progress</td>\n",
       "      <td>2019-06-10 04:22:29</td>\n",
       "    </tr>\n",
       "    <tr>\n",
       "      <th>4</th>\n",
       "      <td>2237343</td>\n",
       "      <td>in_progress</td>\n",
       "      <td>2019-06-10 04:26:29</td>\n",
       "    </tr>\n",
       "  </tbody>\n",
       "</table>\n",
       "</div>"
      ],
      "text/plain": [
       "  order_id order_status          status_time\n",
       "0  2237317  in_progress  2019-06-10 01:07:29\n",
       "1  2234747  in_progress  2019-06-10 02:43:28\n",
       "2  2237334  in_progress  2019-06-10 04:11:28\n",
       "3  2234763  in_progress  2019-06-10 04:22:29\n",
       "4  2237343  in_progress  2019-06-10 04:26:29"
      ]
     },
     "execution_count": 602,
     "metadata": {},
     "output_type": "execute_result"
    }
   ],
   "source": [
    "statuses.head()"
   ]
  },
  {
   "cell_type": "markdown",
   "metadata": {},
   "source": [
    "<font color=purple>__Exploring the data for missing values__</font>"
   ]
  },
  {
   "cell_type": "code",
   "execution_count": 603,
   "metadata": {},
   "outputs": [
    {
     "data": {
      "text/plain": [
       "order_id             False\n",
       "order_created_at     False\n",
       "delivery_schedule    False\n",
       "trip_id              False\n",
       "num_of_lines         False\n",
       "dtype: bool"
      ]
     },
     "execution_count": 603,
     "metadata": {},
     "output_type": "execute_result"
    }
   ],
   "source": [
    "orders.isna().any()"
   ]
  },
  {
   "cell_type": "code",
   "execution_count": 604,
   "metadata": {},
   "outputs": [
    {
     "data": {
      "text/plain": [
       "order_id        False\n",
       "order_status    False\n",
       "status_time     False\n",
       "dtype: bool"
      ]
     },
     "execution_count": 604,
     "metadata": {},
     "output_type": "execute_result"
    }
   ],
   "source": [
    "statuses.isna().any()"
   ]
  },
  {
   "cell_type": "markdown",
   "metadata": {},
   "source": [
    "<font color=purple>__Exploring the data types of each dataframe__</font>"
   ]
  },
  {
   "cell_type": "code",
   "execution_count": 605,
   "metadata": {},
   "outputs": [
    {
     "data": {
      "text/plain": [
       "order_id             object\n",
       "order_created_at     object\n",
       "delivery_schedule    object\n",
       "trip_id              object\n",
       "num_of_lines          int64\n",
       "dtype: object"
      ]
     },
     "execution_count": 605,
     "metadata": {},
     "output_type": "execute_result"
    }
   ],
   "source": [
    "orders.dtypes"
   ]
  },
  {
   "cell_type": "code",
   "execution_count": 606,
   "metadata": {},
   "outputs": [
    {
     "data": {
      "text/plain": [
       "order_id        object\n",
       "order_status    object\n",
       "status_time     object\n",
       "dtype: object"
      ]
     },
     "execution_count": 606,
     "metadata": {},
     "output_type": "execute_result"
    }
   ],
   "source": [
    "statuses.dtypes"
   ]
  },
  {
   "cell_type": "markdown",
   "metadata": {},
   "source": [
    "<font color=purple>__Exploring data size__</font>"
   ]
  },
  {
   "cell_type": "code",
   "execution_count": 607,
   "metadata": {},
   "outputs": [
    {
     "data": {
      "text/plain": [
       "(758, 5)"
      ]
     },
     "execution_count": 607,
     "metadata": {},
     "output_type": "execute_result"
    }
   ],
   "source": [
    "orders.shape"
   ]
  },
  {
   "cell_type": "code",
   "execution_count": 608,
   "metadata": {},
   "outputs": [
    {
     "data": {
      "text/plain": [
       "(5128, 3)"
      ]
     },
     "execution_count": 608,
     "metadata": {},
     "output_type": "execute_result"
    }
   ],
   "source": [
    "statuses.shape"
   ]
  },
  {
   "cell_type": "markdown",
   "metadata": {},
   "source": [
    "<font color=purple>__In order to understand the data a little bit better, I want to see how many unique orders there are in each table__</font>"
   ]
  },
  {
   "cell_type": "code",
   "execution_count": 609,
   "metadata": {},
   "outputs": [
    {
     "data": {
      "text/plain": [
       "758"
      ]
     },
     "execution_count": 609,
     "metadata": {},
     "output_type": "execute_result"
    }
   ],
   "source": [
    "orders['order_id'].nunique()"
   ]
  },
  {
   "cell_type": "code",
   "execution_count": 610,
   "metadata": {},
   "outputs": [
    {
     "data": {
      "text/plain": [
       "758"
      ]
     },
     "execution_count": 610,
     "metadata": {},
     "output_type": "execute_result"
    }
   ],
   "source": [
    "statuses['order_id'].nunique()"
   ]
  },
  {
   "cell_type": "markdown",
   "metadata": {},
   "source": [
    "### Question 1"
   ]
  },
  {
   "cell_type": "markdown",
   "metadata": {},
   "source": [
    "### Since the status_time is a string we convert it into an object before proceeding"
   ]
  },
  {
   "cell_type": "code",
   "execution_count": 611,
   "metadata": {},
   "outputs": [],
   "source": [
    "statuses['status_time'] = pd.to_datetime(statuses['status_time'])"
   ]
  },
  {
   "cell_type": "code",
   "execution_count": 612,
   "metadata": {},
   "outputs": [
    {
     "name": "stdout",
     "output_type": "stream",
     "text": [
      "<class 'pandas.core.frame.DataFrame'>\n",
      "RangeIndex: 5128 entries, 0 to 5127\n",
      "Data columns (total 3 columns):\n",
      " #   Column        Non-Null Count  Dtype         \n",
      "---  ------        --------------  -----         \n",
      " 0   order_id      5128 non-null   object        \n",
      " 1   order_status  5128 non-null   object        \n",
      " 2   status_time   5128 non-null   datetime64[ns]\n",
      "dtypes: datetime64[ns](1), object(2)\n",
      "memory usage: 120.3+ KB\n"
     ]
    }
   ],
   "source": [
    "statuses.info()"
   ]
  },
  {
   "cell_type": "markdown",
   "metadata": {},
   "source": [
    "### checking for a random order the different status times, we can see that 'in_progress' appears twice, we only want the last updated time"
   ]
  },
  {
   "cell_type": "code",
   "execution_count": 613,
   "metadata": {},
   "outputs": [
    {
     "data": {
      "text/html": [
       "<div>\n",
       "<style scoped>\n",
       "    .dataframe tbody tr th:only-of-type {\n",
       "        vertical-align: middle;\n",
       "    }\n",
       "\n",
       "    .dataframe tbody tr th {\n",
       "        vertical-align: top;\n",
       "    }\n",
       "\n",
       "    .dataframe thead th {\n",
       "        text-align: right;\n",
       "    }\n",
       "</style>\n",
       "<table border=\"1\" class=\"dataframe\">\n",
       "  <thead>\n",
       "    <tr style=\"text-align: right;\">\n",
       "      <th></th>\n",
       "      <th>order_id</th>\n",
       "      <th>order_status</th>\n",
       "      <th>status_time</th>\n",
       "    </tr>\n",
       "  </thead>\n",
       "  <tbody>\n",
       "    <tr>\n",
       "      <th>0</th>\n",
       "      <td>2237317</td>\n",
       "      <td>in_progress</td>\n",
       "      <td>2019-06-10 01:07:29</td>\n",
       "    </tr>\n",
       "    <tr>\n",
       "      <th>27</th>\n",
       "      <td>2237317</td>\n",
       "      <td>in_progress</td>\n",
       "      <td>2019-06-10 06:22:52</td>\n",
       "    </tr>\n",
       "    <tr>\n",
       "      <th>48</th>\n",
       "      <td>2237317</td>\n",
       "      <td>picked</td>\n",
       "      <td>2019-06-10 07:01:39</td>\n",
       "    </tr>\n",
       "    <tr>\n",
       "      <th>68</th>\n",
       "      <td>2237317</td>\n",
       "      <td>started_dispatch</td>\n",
       "      <td>2019-06-10 07:15:21</td>\n",
       "    </tr>\n",
       "    <tr>\n",
       "      <th>74</th>\n",
       "      <td>2237317</td>\n",
       "      <td>in_dispatch_buffer</td>\n",
       "      <td>2019-06-10 07:20:43</td>\n",
       "    </tr>\n",
       "    <tr>\n",
       "      <th>80</th>\n",
       "      <td>2237317</td>\n",
       "      <td>packed</td>\n",
       "      <td>2019-06-10 07:23:51</td>\n",
       "    </tr>\n",
       "    <tr>\n",
       "      <th>1086</th>\n",
       "      <td>2237317</td>\n",
       "      <td>dispatched</td>\n",
       "      <td>2019-06-10 20:16:39</td>\n",
       "    </tr>\n",
       "  </tbody>\n",
       "</table>\n",
       "</div>"
      ],
      "text/plain": [
       "     order_id        order_status         status_time\n",
       "0     2237317         in_progress 2019-06-10 01:07:29\n",
       "27    2237317         in_progress 2019-06-10 06:22:52\n",
       "48    2237317              picked 2019-06-10 07:01:39\n",
       "68    2237317    started_dispatch 2019-06-10 07:15:21\n",
       "74    2237317  in_dispatch_buffer 2019-06-10 07:20:43\n",
       "80    2237317              packed 2019-06-10 07:23:51\n",
       "1086  2237317          dispatched 2019-06-10 20:16:39"
      ]
     },
     "execution_count": 613,
     "metadata": {},
     "output_type": "execute_result"
    }
   ],
   "source": [
    "statuses[statuses[\"order_id\"].isin([\"2237317\"])]"
   ]
  },
  {
   "cell_type": "markdown",
   "metadata": {},
   "source": [
    "#### For each order and status, find the last time the status was updated"
   ]
  },
  {
   "cell_type": "code",
   "execution_count": 614,
   "metadata": {},
   "outputs": [],
   "source": [
    "lat_sts_time=pd.DataFrame(statuses.groupby([\"order_id\",\"order_status\"])[\"status_time\"].max())"
   ]
  },
  {
   "cell_type": "markdown",
   "metadata": {},
   "source": [
    "#### Making sure that after the update there is only one status time for each order and order status"
   ]
  },
  {
   "cell_type": "code",
   "execution_count": 615,
   "metadata": {},
   "outputs": [],
   "source": [
    "g = lat_sts_time.groupby(['order_status','order_id'])"
   ]
  },
  {
   "cell_type": "code",
   "execution_count": 616,
   "metadata": {},
   "outputs": [
    {
     "data": {
      "text/html": [
       "<div>\n",
       "<style scoped>\n",
       "    .dataframe tbody tr th:only-of-type {\n",
       "        vertical-align: middle;\n",
       "    }\n",
       "\n",
       "    .dataframe tbody tr th {\n",
       "        vertical-align: top;\n",
       "    }\n",
       "\n",
       "    .dataframe thead th {\n",
       "        text-align: right;\n",
       "    }\n",
       "</style>\n",
       "<table border=\"1\" class=\"dataframe\">\n",
       "  <thead>\n",
       "    <tr style=\"text-align: right;\">\n",
       "      <th></th>\n",
       "      <th></th>\n",
       "      <th>status_time</th>\n",
       "    </tr>\n",
       "    <tr>\n",
       "      <th>order_id</th>\n",
       "      <th>order_status</th>\n",
       "      <th></th>\n",
       "    </tr>\n",
       "  </thead>\n",
       "  <tbody>\n",
       "  </tbody>\n",
       "</table>\n",
       "</div>"
      ],
      "text/plain": [
       "Empty DataFrame\n",
       "Columns: [status_time]\n",
       "Index: []"
      ]
     },
     "execution_count": 616,
     "metadata": {},
     "output_type": "execute_result"
    }
   ],
   "source": [
    "g.filter(lambda x: len(x) > 1)"
   ]
  },
  {
   "cell_type": "markdown",
   "metadata": {},
   "source": [
    "#### Converting the indexes of dataframe lat_sts_time to columns"
   ]
  },
  {
   "cell_type": "code",
   "execution_count": 617,
   "metadata": {},
   "outputs": [],
   "source": [
    "lat_sts_time.reset_index(inplace=True)"
   ]
  },
  {
   "cell_type": "markdown",
   "metadata": {},
   "source": [
    "#### also, we can see that for the previous checked order_id there is only one status time, the latest"
   ]
  },
  {
   "cell_type": "code",
   "execution_count": 618,
   "metadata": {},
   "outputs": [
    {
     "data": {
      "text/html": [
       "<div>\n",
       "<style scoped>\n",
       "    .dataframe tbody tr th:only-of-type {\n",
       "        vertical-align: middle;\n",
       "    }\n",
       "\n",
       "    .dataframe tbody tr th {\n",
       "        vertical-align: top;\n",
       "    }\n",
       "\n",
       "    .dataframe thead th {\n",
       "        text-align: right;\n",
       "    }\n",
       "</style>\n",
       "<table border=\"1\" class=\"dataframe\">\n",
       "  <thead>\n",
       "    <tr style=\"text-align: right;\">\n",
       "      <th></th>\n",
       "      <th>order_id</th>\n",
       "      <th>order_status</th>\n",
       "      <th>status_time</th>\n",
       "    </tr>\n",
       "  </thead>\n",
       "  <tbody>\n",
       "    <tr>\n",
       "      <th>610</th>\n",
       "      <td>2237317</td>\n",
       "      <td>dispatched</td>\n",
       "      <td>2019-06-10 20:16:39</td>\n",
       "    </tr>\n",
       "    <tr>\n",
       "      <th>611</th>\n",
       "      <td>2237317</td>\n",
       "      <td>in_dispatch_buffer</td>\n",
       "      <td>2019-06-10 07:20:43</td>\n",
       "    </tr>\n",
       "    <tr>\n",
       "      <th>612</th>\n",
       "      <td>2237317</td>\n",
       "      <td>in_progress</td>\n",
       "      <td>2019-06-10 06:22:52</td>\n",
       "    </tr>\n",
       "    <tr>\n",
       "      <th>613</th>\n",
       "      <td>2237317</td>\n",
       "      <td>packed</td>\n",
       "      <td>2019-06-10 07:23:51</td>\n",
       "    </tr>\n",
       "    <tr>\n",
       "      <th>614</th>\n",
       "      <td>2237317</td>\n",
       "      <td>picked</td>\n",
       "      <td>2019-06-10 07:01:39</td>\n",
       "    </tr>\n",
       "    <tr>\n",
       "      <th>615</th>\n",
       "      <td>2237317</td>\n",
       "      <td>started_dispatch</td>\n",
       "      <td>2019-06-10 07:15:21</td>\n",
       "    </tr>\n",
       "  </tbody>\n",
       "</table>\n",
       "</div>"
      ],
      "text/plain": [
       "    order_id        order_status         status_time\n",
       "610  2237317          dispatched 2019-06-10 20:16:39\n",
       "611  2237317  in_dispatch_buffer 2019-06-10 07:20:43\n",
       "612  2237317         in_progress 2019-06-10 06:22:52\n",
       "613  2237317              packed 2019-06-10 07:23:51\n",
       "614  2237317              picked 2019-06-10 07:01:39\n",
       "615  2237317    started_dispatch 2019-06-10 07:15:21"
      ]
     },
     "execution_count": 618,
     "metadata": {},
     "output_type": "execute_result"
    }
   ],
   "source": [
    "lat_sts_time[lat_sts_time[\"order_id\"].isin([\"2237317\"])]"
   ]
  },
  {
   "cell_type": "markdown",
   "metadata": {},
   "source": [
    "#### Since there are multiple rows for an order_id and in the final result we only want to see one record per order_id, I've pivoted the dataframe"
   ]
  },
  {
   "cell_type": "code",
   "execution_count": 619,
   "metadata": {},
   "outputs": [],
   "source": [
    "status_p = lat_sts_time.pivot(index='order_id', columns='order_status', values='status_time')"
   ]
  },
  {
   "cell_type": "code",
   "execution_count": 620,
   "metadata": {},
   "outputs": [
    {
     "data": {
      "text/html": [
       "<div>\n",
       "<style scoped>\n",
       "    .dataframe tbody tr th:only-of-type {\n",
       "        vertical-align: middle;\n",
       "    }\n",
       "\n",
       "    .dataframe tbody tr th {\n",
       "        vertical-align: top;\n",
       "    }\n",
       "\n",
       "    .dataframe thead th {\n",
       "        text-align: right;\n",
       "    }\n",
       "</style>\n",
       "<table border=\"1\" class=\"dataframe\">\n",
       "  <thead>\n",
       "    <tr style=\"text-align: right;\">\n",
       "      <th>order_status</th>\n",
       "      <th>dispatched</th>\n",
       "      <th>in_dispatch_buffer</th>\n",
       "      <th>in_progress</th>\n",
       "      <th>order_aborted</th>\n",
       "      <th>packed</th>\n",
       "      <th>picked</th>\n",
       "      <th>started_dispatch</th>\n",
       "    </tr>\n",
       "    <tr>\n",
       "      <th>order_id</th>\n",
       "      <th></th>\n",
       "      <th></th>\n",
       "      <th></th>\n",
       "      <th></th>\n",
       "      <th></th>\n",
       "      <th></th>\n",
       "      <th></th>\n",
       "    </tr>\n",
       "  </thead>\n",
       "  <tbody>\n",
       "    <tr>\n",
       "      <th>2196242</th>\n",
       "      <td>2019-06-10 18:21:11</td>\n",
       "      <td>2019-06-10 16:10:43</td>\n",
       "      <td>2019-06-10 07:47:39</td>\n",
       "      <td>NaT</td>\n",
       "      <td>2019-06-10 16:12:43</td>\n",
       "      <td>2019-06-10 07:54:45</td>\n",
       "      <td>2019-06-10 16:04:06</td>\n",
       "    </tr>\n",
       "    <tr>\n",
       "      <th>2196257</th>\n",
       "      <td>2019-06-10 18:21:27</td>\n",
       "      <td>2019-06-10 16:30:34</td>\n",
       "      <td>2019-06-10 16:04:27</td>\n",
       "      <td>NaT</td>\n",
       "      <td>2019-06-10 16:32:16</td>\n",
       "      <td>2019-06-10 16:22:24</td>\n",
       "      <td>2019-06-10 16:26:40</td>\n",
       "    </tr>\n",
       "    <tr>\n",
       "      <th>2196264</th>\n",
       "      <td>2019-06-11 17:52:39</td>\n",
       "      <td>2019-06-11 09:17:23</td>\n",
       "      <td>2019-06-11 08:51:24</td>\n",
       "      <td>NaT</td>\n",
       "      <td>2019-06-11 09:40:58</td>\n",
       "      <td>2019-06-11 08:59:03</td>\n",
       "      <td>2019-06-11 08:59:08</td>\n",
       "    </tr>\n",
       "    <tr>\n",
       "      <th>2196274</th>\n",
       "      <td>2019-06-11 17:52:43</td>\n",
       "      <td>2019-06-11 11:08:23</td>\n",
       "      <td>2019-06-11 10:39:54</td>\n",
       "      <td>NaT</td>\n",
       "      <td>2019-06-11 11:11:18</td>\n",
       "      <td>2019-06-11 10:46:33</td>\n",
       "      <td>2019-06-11 10:51:08</td>\n",
       "    </tr>\n",
       "    <tr>\n",
       "      <th>2196285</th>\n",
       "      <td>2019-06-12 16:14:51</td>\n",
       "      <td>2019-06-12 09:50:24</td>\n",
       "      <td>2019-06-12 09:42:21</td>\n",
       "      <td>NaT</td>\n",
       "      <td>2019-06-12 10:24:33</td>\n",
       "      <td>2019-06-12 09:48:56</td>\n",
       "      <td>2019-06-12 09:49:16</td>\n",
       "    </tr>\n",
       "  </tbody>\n",
       "</table>\n",
       "</div>"
      ],
      "text/plain": [
       "order_status          dispatched  in_dispatch_buffer         in_progress  \\\n",
       "order_id                                                                   \n",
       "2196242      2019-06-10 18:21:11 2019-06-10 16:10:43 2019-06-10 07:47:39   \n",
       "2196257      2019-06-10 18:21:27 2019-06-10 16:30:34 2019-06-10 16:04:27   \n",
       "2196264      2019-06-11 17:52:39 2019-06-11 09:17:23 2019-06-11 08:51:24   \n",
       "2196274      2019-06-11 17:52:43 2019-06-11 11:08:23 2019-06-11 10:39:54   \n",
       "2196285      2019-06-12 16:14:51 2019-06-12 09:50:24 2019-06-12 09:42:21   \n",
       "\n",
       "order_status order_aborted              packed              picked  \\\n",
       "order_id                                                             \n",
       "2196242                NaT 2019-06-10 16:12:43 2019-06-10 07:54:45   \n",
       "2196257                NaT 2019-06-10 16:32:16 2019-06-10 16:22:24   \n",
       "2196264                NaT 2019-06-11 09:40:58 2019-06-11 08:59:03   \n",
       "2196274                NaT 2019-06-11 11:11:18 2019-06-11 10:46:33   \n",
       "2196285                NaT 2019-06-12 10:24:33 2019-06-12 09:48:56   \n",
       "\n",
       "order_status    started_dispatch  \n",
       "order_id                          \n",
       "2196242      2019-06-10 16:04:06  \n",
       "2196257      2019-06-10 16:26:40  \n",
       "2196264      2019-06-11 08:59:08  \n",
       "2196274      2019-06-11 10:51:08  \n",
       "2196285      2019-06-12 09:49:16  "
      ]
     },
     "execution_count": 620,
     "metadata": {},
     "output_type": "execute_result"
    }
   ],
   "source": [
    "status_p.head()"
   ]
  },
  {
   "cell_type": "markdown",
   "metadata": {},
   "source": [
    "#### Changing the order of hte order_status columns to fit the process"
   ]
  },
  {
   "cell_type": "code",
   "execution_count": 621,
   "metadata": {},
   "outputs": [],
   "source": [
    "status_p=status_upd[['in_progress','picked','started_dispatch','in_dispatch_buffer','packed','dispatched','order_aborted']]"
   ]
  },
  {
   "cell_type": "code",
   "execution_count": 622,
   "metadata": {},
   "outputs": [
    {
     "data": {
      "text/html": [
       "<div>\n",
       "<style scoped>\n",
       "    .dataframe tbody tr th:only-of-type {\n",
       "        vertical-align: middle;\n",
       "    }\n",
       "\n",
       "    .dataframe tbody tr th {\n",
       "        vertical-align: top;\n",
       "    }\n",
       "\n",
       "    .dataframe thead th {\n",
       "        text-align: right;\n",
       "    }\n",
       "</style>\n",
       "<table border=\"1\" class=\"dataframe\">\n",
       "  <thead>\n",
       "    <tr style=\"text-align: right;\">\n",
       "      <th>order_status</th>\n",
       "      <th>in_progress</th>\n",
       "      <th>picked</th>\n",
       "      <th>started_dispatch</th>\n",
       "      <th>in_dispatch_buffer</th>\n",
       "      <th>packed</th>\n",
       "      <th>dispatched</th>\n",
       "      <th>order_aborted</th>\n",
       "    </tr>\n",
       "    <tr>\n",
       "      <th>order_id</th>\n",
       "      <th></th>\n",
       "      <th></th>\n",
       "      <th></th>\n",
       "      <th></th>\n",
       "      <th></th>\n",
       "      <th></th>\n",
       "      <th></th>\n",
       "    </tr>\n",
       "  </thead>\n",
       "  <tbody>\n",
       "    <tr>\n",
       "      <th>2196242</th>\n",
       "      <td>2019-06-10 07:47:39</td>\n",
       "      <td>2019-06-10 07:54:45</td>\n",
       "      <td>2019-06-10 16:04:06</td>\n",
       "      <td>2019-06-10 16:10:43</td>\n",
       "      <td>2019-06-10 16:12:43</td>\n",
       "      <td>2019-06-10 18:21:11</td>\n",
       "      <td>NaN</td>\n",
       "    </tr>\n",
       "    <tr>\n",
       "      <th>2196257</th>\n",
       "      <td>2019-06-10 16:04:27</td>\n",
       "      <td>2019-06-10 16:22:24</td>\n",
       "      <td>2019-06-10 16:26:40</td>\n",
       "      <td>2019-06-10 16:30:34</td>\n",
       "      <td>2019-06-10 16:32:16</td>\n",
       "      <td>2019-06-10 18:21:27</td>\n",
       "      <td>NaN</td>\n",
       "    </tr>\n",
       "    <tr>\n",
       "      <th>2196264</th>\n",
       "      <td>2019-06-11 08:51:24</td>\n",
       "      <td>2019-06-11 08:59:03</td>\n",
       "      <td>2019-06-11 08:59:08</td>\n",
       "      <td>2019-06-11 09:17:23</td>\n",
       "      <td>2019-06-11 09:40:58</td>\n",
       "      <td>2019-06-11 17:52:39</td>\n",
       "      <td>NaN</td>\n",
       "    </tr>\n",
       "    <tr>\n",
       "      <th>2196274</th>\n",
       "      <td>2019-06-11 10:39:54</td>\n",
       "      <td>2019-06-11 10:46:33</td>\n",
       "      <td>2019-06-11 10:51:08</td>\n",
       "      <td>2019-06-11 11:08:23</td>\n",
       "      <td>2019-06-11 11:11:18</td>\n",
       "      <td>2019-06-11 17:52:43</td>\n",
       "      <td>NaN</td>\n",
       "    </tr>\n",
       "    <tr>\n",
       "      <th>2196285</th>\n",
       "      <td>2019-06-12 09:42:21</td>\n",
       "      <td>2019-06-12 09:48:56</td>\n",
       "      <td>2019-06-12 09:49:16</td>\n",
       "      <td>2019-06-12 09:50:24</td>\n",
       "      <td>2019-06-12 10:24:33</td>\n",
       "      <td>2019-06-12 16:14:51</td>\n",
       "      <td>NaN</td>\n",
       "    </tr>\n",
       "  </tbody>\n",
       "</table>\n",
       "</div>"
      ],
      "text/plain": [
       "order_status          in_progress               picked     started_dispatch  \\\n",
       "order_id                                                                      \n",
       "2196242       2019-06-10 07:47:39  2019-06-10 07:54:45  2019-06-10 16:04:06   \n",
       "2196257       2019-06-10 16:04:27  2019-06-10 16:22:24  2019-06-10 16:26:40   \n",
       "2196264       2019-06-11 08:51:24  2019-06-11 08:59:03  2019-06-11 08:59:08   \n",
       "2196274       2019-06-11 10:39:54  2019-06-11 10:46:33  2019-06-11 10:51:08   \n",
       "2196285       2019-06-12 09:42:21  2019-06-12 09:48:56  2019-06-12 09:49:16   \n",
       "\n",
       "order_status   in_dispatch_buffer               packed           dispatched  \\\n",
       "order_id                                                                      \n",
       "2196242       2019-06-10 16:10:43  2019-06-10 16:12:43  2019-06-10 18:21:11   \n",
       "2196257       2019-06-10 16:30:34  2019-06-10 16:32:16  2019-06-10 18:21:27   \n",
       "2196264       2019-06-11 09:17:23  2019-06-11 09:40:58  2019-06-11 17:52:39   \n",
       "2196274       2019-06-11 11:08:23  2019-06-11 11:11:18  2019-06-11 17:52:43   \n",
       "2196285       2019-06-12 09:50:24  2019-06-12 10:24:33  2019-06-12 16:14:51   \n",
       "\n",
       "order_status order_aborted  \n",
       "order_id                    \n",
       "2196242                NaN  \n",
       "2196257                NaN  \n",
       "2196264                NaN  \n",
       "2196274                NaN  \n",
       "2196285                NaN  "
      ]
     },
     "execution_count": 622,
     "metadata": {},
     "output_type": "execute_result"
    }
   ],
   "source": [
    "status_p.head()"
   ]
  },
  {
   "cell_type": "markdown",
   "metadata": {},
   "source": [
    "#### Convert again the order_id from index to a clomun"
   ]
  },
  {
   "cell_type": "code",
   "execution_count": 623,
   "metadata": {},
   "outputs": [],
   "source": [
    "status_p.reset_index(inplace=True)"
   ]
  },
  {
   "cell_type": "code",
   "execution_count": 624,
   "metadata": {},
   "outputs": [
    {
     "name": "stdout",
     "output_type": "stream",
     "text": [
      "<class 'pandas.core.frame.DataFrame'>\n",
      "RangeIndex: 758 entries, 0 to 757\n",
      "Data columns (total 8 columns):\n",
      " #   Column              Non-Null Count  Dtype \n",
      "---  ------              --------------  ----- \n",
      " 0   order_id            758 non-null    object\n",
      " 1   in_progress         750 non-null    object\n",
      " 2   picked              732 non-null    object\n",
      " 3   started_dispatch    728 non-null    object\n",
      " 4   in_dispatch_buffer  729 non-null    object\n",
      " 5   packed              729 non-null    object\n",
      " 6   dispatched          724 non-null    object\n",
      " 7   order_aborted       34 non-null     object\n",
      "dtypes: object(8)\n",
      "memory usage: 47.5+ KB\n"
     ]
    }
   ],
   "source": [
    "status_p.info()"
   ]
  },
  {
   "cell_type": "code",
   "execution_count": 625,
   "metadata": {},
   "outputs": [
    {
     "data": {
      "text/plain": [
       "(758, 8)"
      ]
     },
     "execution_count": 625,
     "metadata": {},
     "output_type": "execute_result"
    }
   ],
   "source": [
    "status_p.shape"
   ]
  },
  {
   "cell_type": "code",
   "execution_count": 626,
   "metadata": {},
   "outputs": [
    {
     "data": {
      "text/html": [
       "<div>\n",
       "<style scoped>\n",
       "    .dataframe tbody tr th:only-of-type {\n",
       "        vertical-align: middle;\n",
       "    }\n",
       "\n",
       "    .dataframe tbody tr th {\n",
       "        vertical-align: top;\n",
       "    }\n",
       "\n",
       "    .dataframe thead th {\n",
       "        text-align: right;\n",
       "    }\n",
       "</style>\n",
       "<table border=\"1\" class=\"dataframe\">\n",
       "  <thead>\n",
       "    <tr style=\"text-align: right;\">\n",
       "      <th>order_status</th>\n",
       "      <th>order_id</th>\n",
       "      <th>in_progress</th>\n",
       "      <th>picked</th>\n",
       "      <th>started_dispatch</th>\n",
       "      <th>in_dispatch_buffer</th>\n",
       "      <th>packed</th>\n",
       "      <th>dispatched</th>\n",
       "      <th>order_aborted</th>\n",
       "    </tr>\n",
       "  </thead>\n",
       "  <tbody>\n",
       "    <tr>\n",
       "      <th>0</th>\n",
       "      <td>2196242</td>\n",
       "      <td>2019-06-10 07:47:39</td>\n",
       "      <td>2019-06-10 07:54:45</td>\n",
       "      <td>2019-06-10 16:04:06</td>\n",
       "      <td>2019-06-10 16:10:43</td>\n",
       "      <td>2019-06-10 16:12:43</td>\n",
       "      <td>2019-06-10 18:21:11</td>\n",
       "      <td>NaN</td>\n",
       "    </tr>\n",
       "    <tr>\n",
       "      <th>1</th>\n",
       "      <td>2196257</td>\n",
       "      <td>2019-06-10 16:04:27</td>\n",
       "      <td>2019-06-10 16:22:24</td>\n",
       "      <td>2019-06-10 16:26:40</td>\n",
       "      <td>2019-06-10 16:30:34</td>\n",
       "      <td>2019-06-10 16:32:16</td>\n",
       "      <td>2019-06-10 18:21:27</td>\n",
       "      <td>NaN</td>\n",
       "    </tr>\n",
       "    <tr>\n",
       "      <th>2</th>\n",
       "      <td>2196264</td>\n",
       "      <td>2019-06-11 08:51:24</td>\n",
       "      <td>2019-06-11 08:59:03</td>\n",
       "      <td>2019-06-11 08:59:08</td>\n",
       "      <td>2019-06-11 09:17:23</td>\n",
       "      <td>2019-06-11 09:40:58</td>\n",
       "      <td>2019-06-11 17:52:39</td>\n",
       "      <td>NaN</td>\n",
       "    </tr>\n",
       "    <tr>\n",
       "      <th>3</th>\n",
       "      <td>2196274</td>\n",
       "      <td>2019-06-11 10:39:54</td>\n",
       "      <td>2019-06-11 10:46:33</td>\n",
       "      <td>2019-06-11 10:51:08</td>\n",
       "      <td>2019-06-11 11:08:23</td>\n",
       "      <td>2019-06-11 11:11:18</td>\n",
       "      <td>2019-06-11 17:52:43</td>\n",
       "      <td>NaN</td>\n",
       "    </tr>\n",
       "    <tr>\n",
       "      <th>4</th>\n",
       "      <td>2196285</td>\n",
       "      <td>2019-06-12 09:42:21</td>\n",
       "      <td>2019-06-12 09:48:56</td>\n",
       "      <td>2019-06-12 09:49:16</td>\n",
       "      <td>2019-06-12 09:50:24</td>\n",
       "      <td>2019-06-12 10:24:33</td>\n",
       "      <td>2019-06-12 16:14:51</td>\n",
       "      <td>NaN</td>\n",
       "    </tr>\n",
       "  </tbody>\n",
       "</table>\n",
       "</div>"
      ],
      "text/plain": [
       "order_status order_id          in_progress               picked  \\\n",
       "0             2196242  2019-06-10 07:47:39  2019-06-10 07:54:45   \n",
       "1             2196257  2019-06-10 16:04:27  2019-06-10 16:22:24   \n",
       "2             2196264  2019-06-11 08:51:24  2019-06-11 08:59:03   \n",
       "3             2196274  2019-06-11 10:39:54  2019-06-11 10:46:33   \n",
       "4             2196285  2019-06-12 09:42:21  2019-06-12 09:48:56   \n",
       "\n",
       "order_status     started_dispatch   in_dispatch_buffer               packed  \\\n",
       "0             2019-06-10 16:04:06  2019-06-10 16:10:43  2019-06-10 16:12:43   \n",
       "1             2019-06-10 16:26:40  2019-06-10 16:30:34  2019-06-10 16:32:16   \n",
       "2             2019-06-11 08:59:08  2019-06-11 09:17:23  2019-06-11 09:40:58   \n",
       "3             2019-06-11 10:51:08  2019-06-11 11:08:23  2019-06-11 11:11:18   \n",
       "4             2019-06-12 09:49:16  2019-06-12 09:50:24  2019-06-12 10:24:33   \n",
       "\n",
       "order_status           dispatched order_aborted  \n",
       "0             2019-06-10 18:21:11           NaN  \n",
       "1             2019-06-10 18:21:27           NaN  \n",
       "2             2019-06-11 17:52:39           NaN  \n",
       "3             2019-06-11 17:52:43           NaN  \n",
       "4             2019-06-12 16:14:51           NaN  "
      ]
     },
     "execution_count": 626,
     "metadata": {},
     "output_type": "execute_result"
    }
   ],
   "source": [
    "status_p.head()"
   ]
  },
  {
   "cell_type": "code",
   "execution_count": 627,
   "metadata": {},
   "outputs": [
    {
     "data": {
      "text/plain": [
       "['order_id',\n",
       " 'in_progress',\n",
       " 'picked',\n",
       " 'started_dispatch',\n",
       " 'in_dispatch_buffer',\n",
       " 'packed',\n",
       " 'dispatched',\n",
       " 'order_aborted']"
      ]
     },
     "execution_count": 627,
     "metadata": {},
     "output_type": "execute_result"
    }
   ],
   "source": [
    "status_p.columns.tolist()"
   ]
  },
  {
   "cell_type": "code",
   "execution_count": 628,
   "metadata": {},
   "outputs": [
    {
     "name": "stdout",
     "output_type": "stream",
     "text": [
      "<class 'pandas.core.frame.DataFrame'>\n",
      "RangeIndex: 758 entries, 0 to 757\n",
      "Data columns (total 8 columns):\n",
      " #   Column              Non-Null Count  Dtype \n",
      "---  ------              --------------  ----- \n",
      " 0   order_id            758 non-null    object\n",
      " 1   in_progress         750 non-null    object\n",
      " 2   picked              732 non-null    object\n",
      " 3   started_dispatch    728 non-null    object\n",
      " 4   in_dispatch_buffer  729 non-null    object\n",
      " 5   packed              729 non-null    object\n",
      " 6   dispatched          724 non-null    object\n",
      " 7   order_aborted       34 non-null     object\n",
      "dtypes: object(8)\n",
      "memory usage: 47.5+ KB\n"
     ]
    }
   ],
   "source": [
    "status_p.info()"
   ]
  },
  {
   "cell_type": "markdown",
   "metadata": {},
   "source": [
    "#### Converting all status times to datetime objects"
   ]
  },
  {
   "cell_type": "code",
   "execution_count": 629,
   "metadata": {},
   "outputs": [],
   "source": [
    "cols_7_extract = status_p.columns[1:8]"
   ]
  },
  {
   "cell_type": "code",
   "execution_count": 630,
   "metadata": {},
   "outputs": [],
   "source": [
    "status_p[cols_7_extract] = status_p[cols_7_extract].applymap(lambda x : pd.to_datetime(x))"
   ]
  },
  {
   "cell_type": "markdown",
   "metadata": {},
   "source": [
    "#### Now all the time values are in the correct format"
   ]
  },
  {
   "cell_type": "code",
   "execution_count": 631,
   "metadata": {},
   "outputs": [
    {
     "name": "stdout",
     "output_type": "stream",
     "text": [
      "<class 'pandas.core.frame.DataFrame'>\n",
      "RangeIndex: 758 entries, 0 to 757\n",
      "Data columns (total 8 columns):\n",
      " #   Column              Non-Null Count  Dtype         \n",
      "---  ------              --------------  -----         \n",
      " 0   order_id            758 non-null    object        \n",
      " 1   in_progress         750 non-null    datetime64[ns]\n",
      " 2   picked              732 non-null    datetime64[ns]\n",
      " 3   started_dispatch    728 non-null    datetime64[ns]\n",
      " 4   in_dispatch_buffer  729 non-null    datetime64[ns]\n",
      " 5   packed              729 non-null    datetime64[ns]\n",
      " 6   dispatched          724 non-null    datetime64[ns]\n",
      " 7   order_aborted       34 non-null     datetime64[ns]\n",
      "dtypes: datetime64[ns](7), object(1)\n",
      "memory usage: 47.5+ KB\n"
     ]
    }
   ],
   "source": [
    "status_p.info()"
   ]
  },
  {
   "cell_type": "markdown",
   "metadata": {},
   "source": [
    "#### Performing a full outer join to the orders dataframe\n",
    "#### the reason for the outer join is because some orders may exist in one table but not in the other\n",
    "#### For example, there could be orders creates but haven't started the status process"
   ]
  },
  {
   "cell_type": "code",
   "execution_count": 632,
   "metadata": {},
   "outputs": [],
   "source": [
    "merged_df = pd.merge(status_p,orders,how='outer',on=['order_id'])"
   ]
  },
  {
   "cell_type": "code",
   "execution_count": 633,
   "metadata": {},
   "outputs": [
    {
     "data": {
      "text/html": [
       "<div>\n",
       "<style scoped>\n",
       "    .dataframe tbody tr th:only-of-type {\n",
       "        vertical-align: middle;\n",
       "    }\n",
       "\n",
       "    .dataframe tbody tr th {\n",
       "        vertical-align: top;\n",
       "    }\n",
       "\n",
       "    .dataframe thead th {\n",
       "        text-align: right;\n",
       "    }\n",
       "</style>\n",
       "<table border=\"1\" class=\"dataframe\">\n",
       "  <thead>\n",
       "    <tr style=\"text-align: right;\">\n",
       "      <th></th>\n",
       "      <th>order_id</th>\n",
       "      <th>in_progress</th>\n",
       "      <th>picked</th>\n",
       "      <th>started_dispatch</th>\n",
       "      <th>in_dispatch_buffer</th>\n",
       "      <th>packed</th>\n",
       "      <th>dispatched</th>\n",
       "      <th>order_aborted</th>\n",
       "      <th>order_created_at</th>\n",
       "      <th>delivery_schedule</th>\n",
       "      <th>trip_id</th>\n",
       "      <th>num_of_lines</th>\n",
       "    </tr>\n",
       "  </thead>\n",
       "  <tbody>\n",
       "    <tr>\n",
       "      <th>0</th>\n",
       "      <td>2196242</td>\n",
       "      <td>2019-06-10 07:47:39</td>\n",
       "      <td>2019-06-10 07:54:45</td>\n",
       "      <td>2019-06-10 16:04:06</td>\n",
       "      <td>2019-06-10 16:10:43</td>\n",
       "      <td>2019-06-10 16:12:43</td>\n",
       "      <td>2019-06-10 18:21:11</td>\n",
       "      <td>NaT</td>\n",
       "      <td>2019-06-10 05:48:30</td>\n",
       "      <td>2019-06-10 18:00:00</td>\n",
       "      <td>s_2019-06-10_21:00</td>\n",
       "      <td>1.0</td>\n",
       "    </tr>\n",
       "    <tr>\n",
       "      <th>1</th>\n",
       "      <td>2196257</td>\n",
       "      <td>2019-06-10 16:04:27</td>\n",
       "      <td>2019-06-10 16:22:24</td>\n",
       "      <td>2019-06-10 16:26:40</td>\n",
       "      <td>2019-06-10 16:30:34</td>\n",
       "      <td>2019-06-10 16:32:16</td>\n",
       "      <td>2019-06-10 18:21:27</td>\n",
       "      <td>NaT</td>\n",
       "      <td>2019-06-10 16:04:27</td>\n",
       "      <td>2019-06-10 18:00:00</td>\n",
       "      <td>s_2019-06-10_21:00</td>\n",
       "      <td>6.0</td>\n",
       "    </tr>\n",
       "    <tr>\n",
       "      <th>2</th>\n",
       "      <td>2196264</td>\n",
       "      <td>2019-06-11 08:51:24</td>\n",
       "      <td>2019-06-11 08:59:03</td>\n",
       "      <td>2019-06-11 08:59:08</td>\n",
       "      <td>2019-06-11 09:17:23</td>\n",
       "      <td>2019-06-11 09:40:58</td>\n",
       "      <td>2019-06-11 17:52:39</td>\n",
       "      <td>NaT</td>\n",
       "      <td>2019-06-11 08:45:30</td>\n",
       "      <td>2019-06-11 18:00:00</td>\n",
       "      <td>s_2019-06-11_21:00</td>\n",
       "      <td>1.0</td>\n",
       "    </tr>\n",
       "    <tr>\n",
       "      <th>3</th>\n",
       "      <td>2196274</td>\n",
       "      <td>2019-06-11 10:39:54</td>\n",
       "      <td>2019-06-11 10:46:33</td>\n",
       "      <td>2019-06-11 10:51:08</td>\n",
       "      <td>2019-06-11 11:08:23</td>\n",
       "      <td>2019-06-11 11:11:18</td>\n",
       "      <td>2019-06-11 17:52:43</td>\n",
       "      <td>NaT</td>\n",
       "      <td>2019-06-11 10:27:29</td>\n",
       "      <td>2019-06-11 18:00:00</td>\n",
       "      <td>s_2019-06-11_21:00</td>\n",
       "      <td>2.0</td>\n",
       "    </tr>\n",
       "    <tr>\n",
       "      <th>4</th>\n",
       "      <td>2196285</td>\n",
       "      <td>2019-06-12 09:42:21</td>\n",
       "      <td>2019-06-12 09:48:56</td>\n",
       "      <td>2019-06-12 09:49:16</td>\n",
       "      <td>2019-06-12 09:50:24</td>\n",
       "      <td>2019-06-12 10:24:33</td>\n",
       "      <td>2019-06-12 16:14:51</td>\n",
       "      <td>NaT</td>\n",
       "      <td>2019-06-12 06:21:18</td>\n",
       "      <td>2019-06-12 14:00:00</td>\n",
       "      <td>z_2019-06-12_17:00</td>\n",
       "      <td>1.0</td>\n",
       "    </tr>\n",
       "  </tbody>\n",
       "</table>\n",
       "</div>"
      ],
      "text/plain": [
       "  order_id         in_progress              picked    started_dispatch  \\\n",
       "0  2196242 2019-06-10 07:47:39 2019-06-10 07:54:45 2019-06-10 16:04:06   \n",
       "1  2196257 2019-06-10 16:04:27 2019-06-10 16:22:24 2019-06-10 16:26:40   \n",
       "2  2196264 2019-06-11 08:51:24 2019-06-11 08:59:03 2019-06-11 08:59:08   \n",
       "3  2196274 2019-06-11 10:39:54 2019-06-11 10:46:33 2019-06-11 10:51:08   \n",
       "4  2196285 2019-06-12 09:42:21 2019-06-12 09:48:56 2019-06-12 09:49:16   \n",
       "\n",
       "   in_dispatch_buffer              packed          dispatched order_aborted  \\\n",
       "0 2019-06-10 16:10:43 2019-06-10 16:12:43 2019-06-10 18:21:11           NaT   \n",
       "1 2019-06-10 16:30:34 2019-06-10 16:32:16 2019-06-10 18:21:27           NaT   \n",
       "2 2019-06-11 09:17:23 2019-06-11 09:40:58 2019-06-11 17:52:39           NaT   \n",
       "3 2019-06-11 11:08:23 2019-06-11 11:11:18 2019-06-11 17:52:43           NaT   \n",
       "4 2019-06-12 09:50:24 2019-06-12 10:24:33 2019-06-12 16:14:51           NaT   \n",
       "\n",
       "      order_created_at    delivery_schedule             trip_id  num_of_lines  \n",
       "0  2019-06-10 05:48:30  2019-06-10 18:00:00  s_2019-06-10_21:00           1.0  \n",
       "1  2019-06-10 16:04:27  2019-06-10 18:00:00  s_2019-06-10_21:00           6.0  \n",
       "2  2019-06-11 08:45:30  2019-06-11 18:00:00  s_2019-06-11_21:00           1.0  \n",
       "3  2019-06-11 10:27:29  2019-06-11 18:00:00  s_2019-06-11_21:00           2.0  \n",
       "4  2019-06-12 06:21:18  2019-06-12 14:00:00  z_2019-06-12_17:00           1.0  "
      ]
     },
     "execution_count": 633,
     "metadata": {},
     "output_type": "execute_result"
    }
   ],
   "source": [
    "merged_df.head()"
   ]
  },
  {
   "cell_type": "code",
   "execution_count": 634,
   "metadata": {},
   "outputs": [
    {
     "data": {
      "text/plain": [
       "(783, 12)"
      ]
     },
     "execution_count": 634,
     "metadata": {},
     "output_type": "execute_result"
    }
   ],
   "source": [
    "merged_df.shape"
   ]
  },
  {
   "cell_type": "code",
   "execution_count": 635,
   "metadata": {},
   "outputs": [
    {
     "name": "stdout",
     "output_type": "stream",
     "text": [
      "<class 'pandas.core.frame.DataFrame'>\n",
      "Int64Index: 783 entries, 0 to 782\n",
      "Data columns (total 12 columns):\n",
      " #   Column              Non-Null Count  Dtype         \n",
      "---  ------              --------------  -----         \n",
      " 0   order_id            783 non-null    object        \n",
      " 1   in_progress         750 non-null    datetime64[ns]\n",
      " 2   picked              732 non-null    datetime64[ns]\n",
      " 3   started_dispatch    728 non-null    datetime64[ns]\n",
      " 4   in_dispatch_buffer  729 non-null    datetime64[ns]\n",
      " 5   packed              729 non-null    datetime64[ns]\n",
      " 6   dispatched          724 non-null    datetime64[ns]\n",
      " 7   order_aborted       34 non-null     datetime64[ns]\n",
      " 8   order_created_at    758 non-null    object        \n",
      " 9   delivery_schedule   758 non-null    object        \n",
      " 10  trip_id             758 non-null    object        \n",
      " 11  num_of_lines        758 non-null    float64       \n",
      "dtypes: datetime64[ns](7), float64(1), object(4)\n",
      "memory usage: 79.5+ KB\n"
     ]
    }
   ],
   "source": [
    "merged_df.info()"
   ]
  },
  {
   "cell_type": "markdown",
   "metadata": {},
   "source": [
    "#### DataFrame to csv"
   ]
  },
  {
   "cell_type": "code",
   "execution_count": 636,
   "metadata": {},
   "outputs": [],
   "source": [
    "merged_df.to_csv(\"Answer_1.csv\")"
   ]
  },
  {
   "cell_type": "markdown",
   "metadata": {},
   "source": [
    "## Question 2"
   ]
  },
  {
   "cell_type": "markdown",
   "metadata": {},
   "source": [
    "### The steps for this answer is:\n",
    "1. Convert order_created_at column to a datetime (it is a string now)\n",
    "2. Substract the order_created_at from the dispatched column to get the process time for each order\n",
    "3. Calculate the mean of these processes times"
   ]
  },
  {
   "cell_type": "markdown",
   "metadata": {},
   "source": [
    "#### <font color=red>step 1: Convert order_created_at column to a datetime</font>"
   ]
  },
  {
   "cell_type": "markdown",
   "metadata": {},
   "source": [
    "#### After exploring the merged dataframe, we see that there are 25 records where there is no value for the creation of the order, we will remove these records before proceeding"
   ]
  },
  {
   "cell_type": "code",
   "execution_count": 637,
   "metadata": {},
   "outputs": [
    {
     "data": {
      "text/plain": [
       "25"
      ]
     },
     "execution_count": 637,
     "metadata": {},
     "output_type": "execute_result"
    }
   ],
   "source": [
    "merged_df['order_created_at'].isna().sum()"
   ]
  },
  {
   "cell_type": "code",
   "execution_count": 638,
   "metadata": {},
   "outputs": [],
   "source": [
    "merged_df.dropna(subset=['order_created_at'],how='any',inplace=True)"
   ]
  },
  {
   "cell_type": "code",
   "execution_count": 639,
   "metadata": {},
   "outputs": [
    {
     "data": {
      "text/plain": [
       "0"
      ]
     },
     "execution_count": 639,
     "metadata": {},
     "output_type": "execute_result"
    }
   ],
   "source": [
    "merged_df['order_created_at'].isna().sum()"
   ]
  },
  {
   "cell_type": "code",
   "execution_count": 640,
   "metadata": {},
   "outputs": [
    {
     "name": "stdout",
     "output_type": "stream",
     "text": [
      "<class 'pandas.core.frame.DataFrame'>\n",
      "Int64Index: 758 entries, 0 to 782\n",
      "Data columns (total 12 columns):\n",
      " #   Column              Non-Null Count  Dtype         \n",
      "---  ------              --------------  -----         \n",
      " 0   order_id            758 non-null    object        \n",
      " 1   in_progress         727 non-null    datetime64[ns]\n",
      " 2   picked              710 non-null    datetime64[ns]\n",
      " 3   started_dispatch    708 non-null    datetime64[ns]\n",
      " 4   in_dispatch_buffer  709 non-null    datetime64[ns]\n",
      " 5   packed              709 non-null    datetime64[ns]\n",
      " 6   dispatched          704 non-null    datetime64[ns]\n",
      " 7   order_aborted       29 non-null     datetime64[ns]\n",
      " 8   order_created_at    758 non-null    object        \n",
      " 9   delivery_schedule   758 non-null    object        \n",
      " 10  trip_id             758 non-null    object        \n",
      " 11  num_of_lines        758 non-null    float64       \n",
      "dtypes: datetime64[ns](7), float64(1), object(4)\n",
      "memory usage: 77.0+ KB\n"
     ]
    }
   ],
   "source": [
    "merged_df.info()"
   ]
  },
  {
   "cell_type": "code",
   "execution_count": 641,
   "metadata": {},
   "outputs": [],
   "source": [
    "merged_df['order_created_at'] = pd.to_datetime(merged_df['order_created_at'])"
   ]
  },
  {
   "cell_type": "markdown",
   "metadata": {},
   "source": [
    "#### Verifying that the change took place"
   ]
  },
  {
   "cell_type": "code",
   "execution_count": 642,
   "metadata": {},
   "outputs": [],
   "source": [
    "assert merged_df['order_created_at'].dtype=='datetime64[ns]'"
   ]
  },
  {
   "cell_type": "markdown",
   "metadata": {},
   "source": [
    "#### Since we need the process time, we need to take only the records that were dispatched, we will hence filter out all the records that haven't got a value in the 'dispatched' column, we can see below that there are 54 records that need to be filtered out"
   ]
  },
  {
   "cell_type": "code",
   "execution_count": 643,
   "metadata": {},
   "outputs": [
    {
     "data": {
      "text/plain": [
       "54"
      ]
     },
     "execution_count": 643,
     "metadata": {},
     "output_type": "execute_result"
    }
   ],
   "source": [
    "merged_df['dispatched'].isna().sum()"
   ]
  },
  {
   "cell_type": "code",
   "execution_count": 644,
   "metadata": {},
   "outputs": [],
   "source": [
    "merged_df.dropna(subset=['dispatched'],how='any',inplace=True)"
   ]
  },
  {
   "cell_type": "code",
   "execution_count": 645,
   "metadata": {},
   "outputs": [
    {
     "data": {
      "text/plain": [
       "0"
      ]
     },
     "execution_count": 645,
     "metadata": {},
     "output_type": "execute_result"
    }
   ],
   "source": [
    "merged_df['dispatched'].isna().sum()"
   ]
  },
  {
   "cell_type": "markdown",
   "metadata": {},
   "source": [
    "#### Since there are orders that were aborted, we need to remove them from the result as well"
   ]
  },
  {
   "cell_type": "code",
   "execution_count": 646,
   "metadata": {},
   "outputs": [],
   "source": [
    "merged_df=merged_df[merged_df['order_aborted'].isnull()]"
   ]
  },
  {
   "cell_type": "markdown",
   "metadata": {},
   "source": [
    "#### We are remained with order_aborted column with only null values, meaning, none of the orders was aborted"
   ]
  },
  {
   "cell_type": "code",
   "execution_count": 647,
   "metadata": {},
   "outputs": [
    {
     "data": {
      "text/plain": [
       "704"
      ]
     },
     "execution_count": 647,
     "metadata": {},
     "output_type": "execute_result"
    }
   ],
   "source": [
    "merged_df['order_aborted'].notnull().count()"
   ]
  },
  {
   "cell_type": "markdown",
   "metadata": {},
   "source": [
    "#### <font color=red>Step 2: Substract the order_created_at from the dispatched column to get the process time for each order</font>"
   ]
  },
  {
   "cell_type": "code",
   "execution_count": 648,
   "metadata": {},
   "outputs": [],
   "source": [
    "merged_df['pr_time']=merged_df['dispatched']-merged_df['order_created_at']"
   ]
  },
  {
   "cell_type": "code",
   "execution_count": 649,
   "metadata": {},
   "outputs": [
    {
     "data": {
      "text/html": [
       "<div>\n",
       "<style scoped>\n",
       "    .dataframe tbody tr th:only-of-type {\n",
       "        vertical-align: middle;\n",
       "    }\n",
       "\n",
       "    .dataframe tbody tr th {\n",
       "        vertical-align: top;\n",
       "    }\n",
       "\n",
       "    .dataframe thead th {\n",
       "        text-align: right;\n",
       "    }\n",
       "</style>\n",
       "<table border=\"1\" class=\"dataframe\">\n",
       "  <thead>\n",
       "    <tr style=\"text-align: right;\">\n",
       "      <th></th>\n",
       "      <th>order_id</th>\n",
       "      <th>in_progress</th>\n",
       "      <th>picked</th>\n",
       "      <th>started_dispatch</th>\n",
       "      <th>in_dispatch_buffer</th>\n",
       "      <th>packed</th>\n",
       "      <th>dispatched</th>\n",
       "      <th>order_aborted</th>\n",
       "      <th>order_created_at</th>\n",
       "      <th>delivery_schedule</th>\n",
       "      <th>trip_id</th>\n",
       "      <th>num_of_lines</th>\n",
       "      <th>pr_time</th>\n",
       "    </tr>\n",
       "  </thead>\n",
       "  <tbody>\n",
       "    <tr>\n",
       "      <th>0</th>\n",
       "      <td>2196242</td>\n",
       "      <td>2019-06-10 07:47:39</td>\n",
       "      <td>2019-06-10 07:54:45</td>\n",
       "      <td>2019-06-10 16:04:06</td>\n",
       "      <td>2019-06-10 16:10:43</td>\n",
       "      <td>2019-06-10 16:12:43</td>\n",
       "      <td>2019-06-10 18:21:11</td>\n",
       "      <td>NaT</td>\n",
       "      <td>2019-06-10 05:48:30</td>\n",
       "      <td>2019-06-10 18:00:00</td>\n",
       "      <td>s_2019-06-10_21:00</td>\n",
       "      <td>1.0</td>\n",
       "      <td>0 days 12:32:41</td>\n",
       "    </tr>\n",
       "    <tr>\n",
       "      <th>1</th>\n",
       "      <td>2196257</td>\n",
       "      <td>2019-06-10 16:04:27</td>\n",
       "      <td>2019-06-10 16:22:24</td>\n",
       "      <td>2019-06-10 16:26:40</td>\n",
       "      <td>2019-06-10 16:30:34</td>\n",
       "      <td>2019-06-10 16:32:16</td>\n",
       "      <td>2019-06-10 18:21:27</td>\n",
       "      <td>NaT</td>\n",
       "      <td>2019-06-10 16:04:27</td>\n",
       "      <td>2019-06-10 18:00:00</td>\n",
       "      <td>s_2019-06-10_21:00</td>\n",
       "      <td>6.0</td>\n",
       "      <td>0 days 02:17:00</td>\n",
       "    </tr>\n",
       "    <tr>\n",
       "      <th>2</th>\n",
       "      <td>2196264</td>\n",
       "      <td>2019-06-11 08:51:24</td>\n",
       "      <td>2019-06-11 08:59:03</td>\n",
       "      <td>2019-06-11 08:59:08</td>\n",
       "      <td>2019-06-11 09:17:23</td>\n",
       "      <td>2019-06-11 09:40:58</td>\n",
       "      <td>2019-06-11 17:52:39</td>\n",
       "      <td>NaT</td>\n",
       "      <td>2019-06-11 08:45:30</td>\n",
       "      <td>2019-06-11 18:00:00</td>\n",
       "      <td>s_2019-06-11_21:00</td>\n",
       "      <td>1.0</td>\n",
       "      <td>0 days 09:07:09</td>\n",
       "    </tr>\n",
       "    <tr>\n",
       "      <th>3</th>\n",
       "      <td>2196274</td>\n",
       "      <td>2019-06-11 10:39:54</td>\n",
       "      <td>2019-06-11 10:46:33</td>\n",
       "      <td>2019-06-11 10:51:08</td>\n",
       "      <td>2019-06-11 11:08:23</td>\n",
       "      <td>2019-06-11 11:11:18</td>\n",
       "      <td>2019-06-11 17:52:43</td>\n",
       "      <td>NaT</td>\n",
       "      <td>2019-06-11 10:27:29</td>\n",
       "      <td>2019-06-11 18:00:00</td>\n",
       "      <td>s_2019-06-11_21:00</td>\n",
       "      <td>2.0</td>\n",
       "      <td>0 days 07:25:14</td>\n",
       "    </tr>\n",
       "    <tr>\n",
       "      <th>4</th>\n",
       "      <td>2196285</td>\n",
       "      <td>2019-06-12 09:42:21</td>\n",
       "      <td>2019-06-12 09:48:56</td>\n",
       "      <td>2019-06-12 09:49:16</td>\n",
       "      <td>2019-06-12 09:50:24</td>\n",
       "      <td>2019-06-12 10:24:33</td>\n",
       "      <td>2019-06-12 16:14:51</td>\n",
       "      <td>NaT</td>\n",
       "      <td>2019-06-12 06:21:18</td>\n",
       "      <td>2019-06-12 14:00:00</td>\n",
       "      <td>z_2019-06-12_17:00</td>\n",
       "      <td>1.0</td>\n",
       "      <td>0 days 09:53:33</td>\n",
       "    </tr>\n",
       "    <tr>\n",
       "      <th>...</th>\n",
       "      <td>...</td>\n",
       "      <td>...</td>\n",
       "      <td>...</td>\n",
       "      <td>...</td>\n",
       "      <td>...</td>\n",
       "      <td>...</td>\n",
       "      <td>...</td>\n",
       "      <td>...</td>\n",
       "      <td>...</td>\n",
       "      <td>...</td>\n",
       "      <td>...</td>\n",
       "      <td>...</td>\n",
       "      <td>...</td>\n",
       "    </tr>\n",
       "    <tr>\n",
       "      <th>728</th>\n",
       "      <td>2247204</td>\n",
       "      <td>2019-06-14 04:44:51</td>\n",
       "      <td>2019-06-14 04:54:16</td>\n",
       "      <td>2019-06-14 05:23:42</td>\n",
       "      <td>2019-06-14 05:30:49</td>\n",
       "      <td>2019-06-14 05:32:57</td>\n",
       "      <td>2019-06-14 11:07:29</td>\n",
       "      <td>NaT</td>\n",
       "      <td>2019-06-13 18:56:54</td>\n",
       "      <td>2019-06-14 11:30:00</td>\n",
       "      <td>s_2019-06-14_14:30</td>\n",
       "      <td>3.0</td>\n",
       "      <td>0 days 16:10:35</td>\n",
       "    </tr>\n",
       "    <tr>\n",
       "      <th>729</th>\n",
       "      <td>2247212</td>\n",
       "      <td>2019-06-14 04:46:28</td>\n",
       "      <td>2019-06-14 04:46:28</td>\n",
       "      <td>2019-06-14 05:33:26</td>\n",
       "      <td>2019-06-14 05:36:55</td>\n",
       "      <td>2019-06-14 05:52:49</td>\n",
       "      <td>2019-06-14 11:07:27</td>\n",
       "      <td>NaT</td>\n",
       "      <td>2019-06-13 19:05:56</td>\n",
       "      <td>2019-06-14 11:30:00</td>\n",
       "      <td>s_2019-06-14_14:30</td>\n",
       "      <td>3.0</td>\n",
       "      <td>0 days 16:01:31</td>\n",
       "    </tr>\n",
       "    <tr>\n",
       "      <th>730</th>\n",
       "      <td>2247238</td>\n",
       "      <td>2019-06-14 04:46:28</td>\n",
       "      <td>2019-06-14 04:46:28</td>\n",
       "      <td>2019-06-14 08:00:45</td>\n",
       "      <td>2019-06-14 08:03:34</td>\n",
       "      <td>2019-06-14 08:04:54</td>\n",
       "      <td>2019-06-14 11:07:27</td>\n",
       "      <td>NaT</td>\n",
       "      <td>2019-06-13 19:50:57</td>\n",
       "      <td>2019-06-14 11:30:00</td>\n",
       "      <td>s_2019-06-14_14:30</td>\n",
       "      <td>3.0</td>\n",
       "      <td>0 days 15:16:30</td>\n",
       "    </tr>\n",
       "    <tr>\n",
       "      <th>731</th>\n",
       "      <td>2247281</td>\n",
       "      <td>2019-06-14 04:46:28</td>\n",
       "      <td>2019-06-14 04:58:42</td>\n",
       "      <td>2019-06-14 07:03:29</td>\n",
       "      <td>2019-06-14 07:09:04</td>\n",
       "      <td>2019-06-14 07:09:47</td>\n",
       "      <td>2019-06-14 11:07:28</td>\n",
       "      <td>NaT</td>\n",
       "      <td>2019-06-13 21:16:53</td>\n",
       "      <td>2019-06-14 11:30:00</td>\n",
       "      <td>s_2019-06-14_14:30</td>\n",
       "      <td>10.0</td>\n",
       "      <td>0 days 13:50:35</td>\n",
       "    </tr>\n",
       "    <tr>\n",
       "      <th>732</th>\n",
       "      <td>2247282</td>\n",
       "      <td>2019-06-14 04:49:28</td>\n",
       "      <td>2019-06-14 04:59:37</td>\n",
       "      <td>2019-06-14 07:51:05</td>\n",
       "      <td>2019-06-14 07:54:03</td>\n",
       "      <td>2019-06-14 07:57:38</td>\n",
       "      <td>2019-06-14 11:07:28</td>\n",
       "      <td>NaT</td>\n",
       "      <td>2019-06-13 21:18:53</td>\n",
       "      <td>2019-06-14 11:30:00</td>\n",
       "      <td>s_2019-06-14_14:30</td>\n",
       "      <td>5.0</td>\n",
       "      <td>0 days 13:48:35</td>\n",
       "    </tr>\n",
       "  </tbody>\n",
       "</table>\n",
       "<p>704 rows × 13 columns</p>\n",
       "</div>"
      ],
      "text/plain": [
       "    order_id         in_progress              picked    started_dispatch  \\\n",
       "0    2196242 2019-06-10 07:47:39 2019-06-10 07:54:45 2019-06-10 16:04:06   \n",
       "1    2196257 2019-06-10 16:04:27 2019-06-10 16:22:24 2019-06-10 16:26:40   \n",
       "2    2196264 2019-06-11 08:51:24 2019-06-11 08:59:03 2019-06-11 08:59:08   \n",
       "3    2196274 2019-06-11 10:39:54 2019-06-11 10:46:33 2019-06-11 10:51:08   \n",
       "4    2196285 2019-06-12 09:42:21 2019-06-12 09:48:56 2019-06-12 09:49:16   \n",
       "..       ...                 ...                 ...                 ...   \n",
       "728  2247204 2019-06-14 04:44:51 2019-06-14 04:54:16 2019-06-14 05:23:42   \n",
       "729  2247212 2019-06-14 04:46:28 2019-06-14 04:46:28 2019-06-14 05:33:26   \n",
       "730  2247238 2019-06-14 04:46:28 2019-06-14 04:46:28 2019-06-14 08:00:45   \n",
       "731  2247281 2019-06-14 04:46:28 2019-06-14 04:58:42 2019-06-14 07:03:29   \n",
       "732  2247282 2019-06-14 04:49:28 2019-06-14 04:59:37 2019-06-14 07:51:05   \n",
       "\n",
       "     in_dispatch_buffer              packed          dispatched order_aborted  \\\n",
       "0   2019-06-10 16:10:43 2019-06-10 16:12:43 2019-06-10 18:21:11           NaT   \n",
       "1   2019-06-10 16:30:34 2019-06-10 16:32:16 2019-06-10 18:21:27           NaT   \n",
       "2   2019-06-11 09:17:23 2019-06-11 09:40:58 2019-06-11 17:52:39           NaT   \n",
       "3   2019-06-11 11:08:23 2019-06-11 11:11:18 2019-06-11 17:52:43           NaT   \n",
       "4   2019-06-12 09:50:24 2019-06-12 10:24:33 2019-06-12 16:14:51           NaT   \n",
       "..                  ...                 ...                 ...           ...   \n",
       "728 2019-06-14 05:30:49 2019-06-14 05:32:57 2019-06-14 11:07:29           NaT   \n",
       "729 2019-06-14 05:36:55 2019-06-14 05:52:49 2019-06-14 11:07:27           NaT   \n",
       "730 2019-06-14 08:03:34 2019-06-14 08:04:54 2019-06-14 11:07:27           NaT   \n",
       "731 2019-06-14 07:09:04 2019-06-14 07:09:47 2019-06-14 11:07:28           NaT   \n",
       "732 2019-06-14 07:54:03 2019-06-14 07:57:38 2019-06-14 11:07:28           NaT   \n",
       "\n",
       "       order_created_at    delivery_schedule             trip_id  \\\n",
       "0   2019-06-10 05:48:30  2019-06-10 18:00:00  s_2019-06-10_21:00   \n",
       "1   2019-06-10 16:04:27  2019-06-10 18:00:00  s_2019-06-10_21:00   \n",
       "2   2019-06-11 08:45:30  2019-06-11 18:00:00  s_2019-06-11_21:00   \n",
       "3   2019-06-11 10:27:29  2019-06-11 18:00:00  s_2019-06-11_21:00   \n",
       "4   2019-06-12 06:21:18  2019-06-12 14:00:00  z_2019-06-12_17:00   \n",
       "..                  ...                  ...                 ...   \n",
       "728 2019-06-13 18:56:54  2019-06-14 11:30:00  s_2019-06-14_14:30   \n",
       "729 2019-06-13 19:05:56  2019-06-14 11:30:00  s_2019-06-14_14:30   \n",
       "730 2019-06-13 19:50:57  2019-06-14 11:30:00  s_2019-06-14_14:30   \n",
       "731 2019-06-13 21:16:53  2019-06-14 11:30:00  s_2019-06-14_14:30   \n",
       "732 2019-06-13 21:18:53  2019-06-14 11:30:00  s_2019-06-14_14:30   \n",
       "\n",
       "     num_of_lines         pr_time  \n",
       "0             1.0 0 days 12:32:41  \n",
       "1             6.0 0 days 02:17:00  \n",
       "2             1.0 0 days 09:07:09  \n",
       "3             2.0 0 days 07:25:14  \n",
       "4             1.0 0 days 09:53:33  \n",
       "..            ...             ...  \n",
       "728           3.0 0 days 16:10:35  \n",
       "729           3.0 0 days 16:01:31  \n",
       "730           3.0 0 days 15:16:30  \n",
       "731          10.0 0 days 13:50:35  \n",
       "732           5.0 0 days 13:48:35  \n",
       "\n",
       "[704 rows x 13 columns]"
      ]
     },
     "execution_count": 649,
     "metadata": {},
     "output_type": "execute_result"
    }
   ],
   "source": [
    "merged_df"
   ]
  },
  {
   "cell_type": "markdown",
   "metadata": {},
   "source": [
    "#### <font color=red>step 3: Calculate the mean of these processes times</font>"
   ]
  },
  {
   "cell_type": "code",
   "execution_count": 650,
   "metadata": {},
   "outputs": [
    {
     "name": "stdout",
     "output_type": "stream",
     "text": [
      "0 days 11:38:53.352272727\n"
     ]
    }
   ],
   "source": [
    "print(merged_df['pr_time'].mean())"
   ]
  },
  {
   "cell_type": "markdown",
   "metadata": {},
   "source": [
    "## Question 3"
   ]
  },
  {
   "cell_type": "markdown",
   "metadata": {},
   "source": [
    "### Steps for solution:\n",
    "1. Convert delivery_schedule column to datetime\n",
    "1. Filter only the orders that were packed from the previous df_merged dataframe\n",
    "2. Filter only the records that their packing time is before their delivery schedule time"
   ]
  },
  {
   "cell_type": "markdown",
   "metadata": {},
   "source": [
    "#### <font color=magenta>step 1: Convert delivery_schedule column to datetime</font>"
   ]
  },
  {
   "cell_type": "code",
   "execution_count": 651,
   "metadata": {},
   "outputs": [],
   "source": [
    "merged_df['delivery_schedule'] = pd.to_datetime(merged_df['delivery_schedule'])"
   ]
  },
  {
   "cell_type": "code",
   "execution_count": 652,
   "metadata": {},
   "outputs": [],
   "source": [
    "assert merged_df['delivery_schedule'].dtype=='datetime64[ns]'"
   ]
  },
  {
   "cell_type": "markdown",
   "metadata": {},
   "source": [
    "#### <font color=magenta>step 2: Filter only the packed orders, as we can see all orders were packed</font>"
   ]
  },
  {
   "cell_type": "code",
   "execution_count": 653,
   "metadata": {},
   "outputs": [
    {
     "data": {
      "text/plain": [
       "0"
      ]
     },
     "execution_count": 653,
     "metadata": {},
     "output_type": "execute_result"
    }
   ],
   "source": [
    "merged_df['packed'].isna().sum()"
   ]
  },
  {
   "cell_type": "markdown",
   "metadata": {},
   "source": [
    "#### Filtering the orders that were pcked before their delivery schedule"
   ]
  },
  {
   "cell_type": "code",
   "execution_count": 654,
   "metadata": {},
   "outputs": [],
   "source": [
    "early_pack=merged_df[merged_df['packed']<merged_df['delivery_schedule']]"
   ]
  },
  {
   "cell_type": "code",
   "execution_count": 655,
   "metadata": {},
   "outputs": [
    {
     "data": {
      "text/html": [
       "<div>\n",
       "<style scoped>\n",
       "    .dataframe tbody tr th:only-of-type {\n",
       "        vertical-align: middle;\n",
       "    }\n",
       "\n",
       "    .dataframe tbody tr th {\n",
       "        vertical-align: top;\n",
       "    }\n",
       "\n",
       "    .dataframe thead th {\n",
       "        text-align: right;\n",
       "    }\n",
       "</style>\n",
       "<table border=\"1\" class=\"dataframe\">\n",
       "  <thead>\n",
       "    <tr style=\"text-align: right;\">\n",
       "      <th></th>\n",
       "      <th>order_id</th>\n",
       "      <th>in_progress</th>\n",
       "      <th>picked</th>\n",
       "      <th>started_dispatch</th>\n",
       "      <th>in_dispatch_buffer</th>\n",
       "      <th>packed</th>\n",
       "      <th>dispatched</th>\n",
       "      <th>order_aborted</th>\n",
       "      <th>order_created_at</th>\n",
       "      <th>delivery_schedule</th>\n",
       "      <th>trip_id</th>\n",
       "      <th>num_of_lines</th>\n",
       "      <th>pr_time</th>\n",
       "    </tr>\n",
       "  </thead>\n",
       "  <tbody>\n",
       "    <tr>\n",
       "      <th>0</th>\n",
       "      <td>2196242</td>\n",
       "      <td>2019-06-10 07:47:39</td>\n",
       "      <td>2019-06-10 07:54:45</td>\n",
       "      <td>2019-06-10 16:04:06</td>\n",
       "      <td>2019-06-10 16:10:43</td>\n",
       "      <td>2019-06-10 16:12:43</td>\n",
       "      <td>2019-06-10 18:21:11</td>\n",
       "      <td>NaT</td>\n",
       "      <td>2019-06-10 05:48:30</td>\n",
       "      <td>2019-06-10 18:00:00</td>\n",
       "      <td>s_2019-06-10_21:00</td>\n",
       "      <td>1.0</td>\n",
       "      <td>0 days 12:32:41</td>\n",
       "    </tr>\n",
       "    <tr>\n",
       "      <th>1</th>\n",
       "      <td>2196257</td>\n",
       "      <td>2019-06-10 16:04:27</td>\n",
       "      <td>2019-06-10 16:22:24</td>\n",
       "      <td>2019-06-10 16:26:40</td>\n",
       "      <td>2019-06-10 16:30:34</td>\n",
       "      <td>2019-06-10 16:32:16</td>\n",
       "      <td>2019-06-10 18:21:27</td>\n",
       "      <td>NaT</td>\n",
       "      <td>2019-06-10 16:04:27</td>\n",
       "      <td>2019-06-10 18:00:00</td>\n",
       "      <td>s_2019-06-10_21:00</td>\n",
       "      <td>6.0</td>\n",
       "      <td>0 days 02:17:00</td>\n",
       "    </tr>\n",
       "    <tr>\n",
       "      <th>2</th>\n",
       "      <td>2196264</td>\n",
       "      <td>2019-06-11 08:51:24</td>\n",
       "      <td>2019-06-11 08:59:03</td>\n",
       "      <td>2019-06-11 08:59:08</td>\n",
       "      <td>2019-06-11 09:17:23</td>\n",
       "      <td>2019-06-11 09:40:58</td>\n",
       "      <td>2019-06-11 17:52:39</td>\n",
       "      <td>NaT</td>\n",
       "      <td>2019-06-11 08:45:30</td>\n",
       "      <td>2019-06-11 18:00:00</td>\n",
       "      <td>s_2019-06-11_21:00</td>\n",
       "      <td>1.0</td>\n",
       "      <td>0 days 09:07:09</td>\n",
       "    </tr>\n",
       "    <tr>\n",
       "      <th>3</th>\n",
       "      <td>2196274</td>\n",
       "      <td>2019-06-11 10:39:54</td>\n",
       "      <td>2019-06-11 10:46:33</td>\n",
       "      <td>2019-06-11 10:51:08</td>\n",
       "      <td>2019-06-11 11:08:23</td>\n",
       "      <td>2019-06-11 11:11:18</td>\n",
       "      <td>2019-06-11 17:52:43</td>\n",
       "      <td>NaT</td>\n",
       "      <td>2019-06-11 10:27:29</td>\n",
       "      <td>2019-06-11 18:00:00</td>\n",
       "      <td>s_2019-06-11_21:00</td>\n",
       "      <td>2.0</td>\n",
       "      <td>0 days 07:25:14</td>\n",
       "    </tr>\n",
       "    <tr>\n",
       "      <th>4</th>\n",
       "      <td>2196285</td>\n",
       "      <td>2019-06-12 09:42:21</td>\n",
       "      <td>2019-06-12 09:48:56</td>\n",
       "      <td>2019-06-12 09:49:16</td>\n",
       "      <td>2019-06-12 09:50:24</td>\n",
       "      <td>2019-06-12 10:24:33</td>\n",
       "      <td>2019-06-12 16:14:51</td>\n",
       "      <td>NaT</td>\n",
       "      <td>2019-06-12 06:21:18</td>\n",
       "      <td>2019-06-12 14:00:00</td>\n",
       "      <td>z_2019-06-12_17:00</td>\n",
       "      <td>1.0</td>\n",
       "      <td>0 days 09:53:33</td>\n",
       "    </tr>\n",
       "  </tbody>\n",
       "</table>\n",
       "</div>"
      ],
      "text/plain": [
       "  order_id         in_progress              picked    started_dispatch  \\\n",
       "0  2196242 2019-06-10 07:47:39 2019-06-10 07:54:45 2019-06-10 16:04:06   \n",
       "1  2196257 2019-06-10 16:04:27 2019-06-10 16:22:24 2019-06-10 16:26:40   \n",
       "2  2196264 2019-06-11 08:51:24 2019-06-11 08:59:03 2019-06-11 08:59:08   \n",
       "3  2196274 2019-06-11 10:39:54 2019-06-11 10:46:33 2019-06-11 10:51:08   \n",
       "4  2196285 2019-06-12 09:42:21 2019-06-12 09:48:56 2019-06-12 09:49:16   \n",
       "\n",
       "   in_dispatch_buffer              packed          dispatched order_aborted  \\\n",
       "0 2019-06-10 16:10:43 2019-06-10 16:12:43 2019-06-10 18:21:11           NaT   \n",
       "1 2019-06-10 16:30:34 2019-06-10 16:32:16 2019-06-10 18:21:27           NaT   \n",
       "2 2019-06-11 09:17:23 2019-06-11 09:40:58 2019-06-11 17:52:39           NaT   \n",
       "3 2019-06-11 11:08:23 2019-06-11 11:11:18 2019-06-11 17:52:43           NaT   \n",
       "4 2019-06-12 09:50:24 2019-06-12 10:24:33 2019-06-12 16:14:51           NaT   \n",
       "\n",
       "     order_created_at   delivery_schedule             trip_id  num_of_lines  \\\n",
       "0 2019-06-10 05:48:30 2019-06-10 18:00:00  s_2019-06-10_21:00           1.0   \n",
       "1 2019-06-10 16:04:27 2019-06-10 18:00:00  s_2019-06-10_21:00           6.0   \n",
       "2 2019-06-11 08:45:30 2019-06-11 18:00:00  s_2019-06-11_21:00           1.0   \n",
       "3 2019-06-11 10:27:29 2019-06-11 18:00:00  s_2019-06-11_21:00           2.0   \n",
       "4 2019-06-12 06:21:18 2019-06-12 14:00:00  z_2019-06-12_17:00           1.0   \n",
       "\n",
       "          pr_time  \n",
       "0 0 days 12:32:41  \n",
       "1 0 days 02:17:00  \n",
       "2 0 days 09:07:09  \n",
       "3 0 days 07:25:14  \n",
       "4 0 days 09:53:33  "
      ]
     },
     "execution_count": 655,
     "metadata": {},
     "output_type": "execute_result"
    }
   ],
   "source": [
    "early_pack.head()"
   ]
  },
  {
   "cell_type": "code",
   "execution_count": 656,
   "metadata": {},
   "outputs": [
    {
     "data": {
      "text/plain": [
       "(690, 13)"
      ]
     },
     "execution_count": 656,
     "metadata": {},
     "output_type": "execute_result"
    }
   ],
   "source": [
    "early_pack.shape"
   ]
  },
  {
   "cell_type": "code",
   "execution_count": 658,
   "metadata": {},
   "outputs": [],
   "source": [
    "early_pack.to_csv(\"Answer_3_early_pack.csv\")"
   ]
  },
  {
   "cell_type": "markdown",
   "metadata": {},
   "source": [
    "## Question 3a \n",
    "### KPI - Average,  Interquartile range and median of delivery time\n",
    "#### The interquartile range describes the difference between the third quartile (Q3) and the first quartile (Q1), telling us about the range of the middle half of the values in the distribution\n",
    "#### I will consider the trip_id column as a time the order was delivered to its destination\n",
    "#### I will  calculate then the delivery time since the mooment the order was created in the system\n",
    "#### <font color=red>_Median is much more robust for skewed dataset_</font>\n",
    "#### **steps**\n",
    "1. Cleaning the trip_id column\n",
    "2. Creating a column named delivered_on\n",
    "3. Convering new column to datetime\n",
    "4. Creating a column containig the difference between the delivered_on time and the order_created_at time"
   ]
  },
  {
   "cell_type": "code",
   "execution_count": 659,
   "metadata": {},
   "outputs": [
    {
     "data": {
      "text/html": [
       "<div>\n",
       "<style scoped>\n",
       "    .dataframe tbody tr th:only-of-type {\n",
       "        vertical-align: middle;\n",
       "    }\n",
       "\n",
       "    .dataframe tbody tr th {\n",
       "        vertical-align: top;\n",
       "    }\n",
       "\n",
       "    .dataframe thead th {\n",
       "        text-align: right;\n",
       "    }\n",
       "</style>\n",
       "<table border=\"1\" class=\"dataframe\">\n",
       "  <thead>\n",
       "    <tr style=\"text-align: right;\">\n",
       "      <th></th>\n",
       "      <th>order_id</th>\n",
       "      <th>in_progress</th>\n",
       "      <th>picked</th>\n",
       "      <th>started_dispatch</th>\n",
       "      <th>in_dispatch_buffer</th>\n",
       "      <th>packed</th>\n",
       "      <th>dispatched</th>\n",
       "      <th>order_aborted</th>\n",
       "      <th>order_created_at</th>\n",
       "      <th>delivery_schedule</th>\n",
       "      <th>trip_id</th>\n",
       "      <th>num_of_lines</th>\n",
       "      <th>pr_time</th>\n",
       "    </tr>\n",
       "  </thead>\n",
       "  <tbody>\n",
       "    <tr>\n",
       "      <th>0</th>\n",
       "      <td>2196242</td>\n",
       "      <td>2019-06-10 07:47:39</td>\n",
       "      <td>2019-06-10 07:54:45</td>\n",
       "      <td>2019-06-10 16:04:06</td>\n",
       "      <td>2019-06-10 16:10:43</td>\n",
       "      <td>2019-06-10 16:12:43</td>\n",
       "      <td>2019-06-10 18:21:11</td>\n",
       "      <td>NaT</td>\n",
       "      <td>2019-06-10 05:48:30</td>\n",
       "      <td>2019-06-10 18:00:00</td>\n",
       "      <td>s_2019-06-10_21:00</td>\n",
       "      <td>1.0</td>\n",
       "      <td>0 days 12:32:41</td>\n",
       "    </tr>\n",
       "    <tr>\n",
       "      <th>1</th>\n",
       "      <td>2196257</td>\n",
       "      <td>2019-06-10 16:04:27</td>\n",
       "      <td>2019-06-10 16:22:24</td>\n",
       "      <td>2019-06-10 16:26:40</td>\n",
       "      <td>2019-06-10 16:30:34</td>\n",
       "      <td>2019-06-10 16:32:16</td>\n",
       "      <td>2019-06-10 18:21:27</td>\n",
       "      <td>NaT</td>\n",
       "      <td>2019-06-10 16:04:27</td>\n",
       "      <td>2019-06-10 18:00:00</td>\n",
       "      <td>s_2019-06-10_21:00</td>\n",
       "      <td>6.0</td>\n",
       "      <td>0 days 02:17:00</td>\n",
       "    </tr>\n",
       "    <tr>\n",
       "      <th>2</th>\n",
       "      <td>2196264</td>\n",
       "      <td>2019-06-11 08:51:24</td>\n",
       "      <td>2019-06-11 08:59:03</td>\n",
       "      <td>2019-06-11 08:59:08</td>\n",
       "      <td>2019-06-11 09:17:23</td>\n",
       "      <td>2019-06-11 09:40:58</td>\n",
       "      <td>2019-06-11 17:52:39</td>\n",
       "      <td>NaT</td>\n",
       "      <td>2019-06-11 08:45:30</td>\n",
       "      <td>2019-06-11 18:00:00</td>\n",
       "      <td>s_2019-06-11_21:00</td>\n",
       "      <td>1.0</td>\n",
       "      <td>0 days 09:07:09</td>\n",
       "    </tr>\n",
       "    <tr>\n",
       "      <th>3</th>\n",
       "      <td>2196274</td>\n",
       "      <td>2019-06-11 10:39:54</td>\n",
       "      <td>2019-06-11 10:46:33</td>\n",
       "      <td>2019-06-11 10:51:08</td>\n",
       "      <td>2019-06-11 11:08:23</td>\n",
       "      <td>2019-06-11 11:11:18</td>\n",
       "      <td>2019-06-11 17:52:43</td>\n",
       "      <td>NaT</td>\n",
       "      <td>2019-06-11 10:27:29</td>\n",
       "      <td>2019-06-11 18:00:00</td>\n",
       "      <td>s_2019-06-11_21:00</td>\n",
       "      <td>2.0</td>\n",
       "      <td>0 days 07:25:14</td>\n",
       "    </tr>\n",
       "    <tr>\n",
       "      <th>4</th>\n",
       "      <td>2196285</td>\n",
       "      <td>2019-06-12 09:42:21</td>\n",
       "      <td>2019-06-12 09:48:56</td>\n",
       "      <td>2019-06-12 09:49:16</td>\n",
       "      <td>2019-06-12 09:50:24</td>\n",
       "      <td>2019-06-12 10:24:33</td>\n",
       "      <td>2019-06-12 16:14:51</td>\n",
       "      <td>NaT</td>\n",
       "      <td>2019-06-12 06:21:18</td>\n",
       "      <td>2019-06-12 14:00:00</td>\n",
       "      <td>z_2019-06-12_17:00</td>\n",
       "      <td>1.0</td>\n",
       "      <td>0 days 09:53:33</td>\n",
       "    </tr>\n",
       "  </tbody>\n",
       "</table>\n",
       "</div>"
      ],
      "text/plain": [
       "  order_id         in_progress              picked    started_dispatch  \\\n",
       "0  2196242 2019-06-10 07:47:39 2019-06-10 07:54:45 2019-06-10 16:04:06   \n",
       "1  2196257 2019-06-10 16:04:27 2019-06-10 16:22:24 2019-06-10 16:26:40   \n",
       "2  2196264 2019-06-11 08:51:24 2019-06-11 08:59:03 2019-06-11 08:59:08   \n",
       "3  2196274 2019-06-11 10:39:54 2019-06-11 10:46:33 2019-06-11 10:51:08   \n",
       "4  2196285 2019-06-12 09:42:21 2019-06-12 09:48:56 2019-06-12 09:49:16   \n",
       "\n",
       "   in_dispatch_buffer              packed          dispatched order_aborted  \\\n",
       "0 2019-06-10 16:10:43 2019-06-10 16:12:43 2019-06-10 18:21:11           NaT   \n",
       "1 2019-06-10 16:30:34 2019-06-10 16:32:16 2019-06-10 18:21:27           NaT   \n",
       "2 2019-06-11 09:17:23 2019-06-11 09:40:58 2019-06-11 17:52:39           NaT   \n",
       "3 2019-06-11 11:08:23 2019-06-11 11:11:18 2019-06-11 17:52:43           NaT   \n",
       "4 2019-06-12 09:50:24 2019-06-12 10:24:33 2019-06-12 16:14:51           NaT   \n",
       "\n",
       "     order_created_at   delivery_schedule             trip_id  num_of_lines  \\\n",
       "0 2019-06-10 05:48:30 2019-06-10 18:00:00  s_2019-06-10_21:00           1.0   \n",
       "1 2019-06-10 16:04:27 2019-06-10 18:00:00  s_2019-06-10_21:00           6.0   \n",
       "2 2019-06-11 08:45:30 2019-06-11 18:00:00  s_2019-06-11_21:00           1.0   \n",
       "3 2019-06-11 10:27:29 2019-06-11 18:00:00  s_2019-06-11_21:00           2.0   \n",
       "4 2019-06-12 06:21:18 2019-06-12 14:00:00  z_2019-06-12_17:00           1.0   \n",
       "\n",
       "          pr_time  \n",
       "0 0 days 12:32:41  \n",
       "1 0 days 02:17:00  \n",
       "2 0 days 09:07:09  \n",
       "3 0 days 07:25:14  \n",
       "4 0 days 09:53:33  "
      ]
     },
     "execution_count": 659,
     "metadata": {},
     "output_type": "execute_result"
    }
   ],
   "source": [
    "merged_df.head()"
   ]
  },
  {
   "cell_type": "markdown",
   "metadata": {},
   "source": [
    "#### <font color=magenta>step 1+2: Cleaning trip_id column and Creating a column named delivered_on</font>"
   ]
  },
  {
   "cell_type": "code",
   "execution_count": 667,
   "metadata": {},
   "outputs": [],
   "source": [
    "merged_df['delivered_on']=merged_df['trip_id'].str.replace('_', ' ')"
   ]
  },
  {
   "cell_type": "code",
   "execution_count": 668,
   "metadata": {},
   "outputs": [],
   "source": [
    "merged_df['delivered_on']=merged_df['delivered_on'].str.replace('[a-z]', '')"
   ]
  },
  {
   "cell_type": "code",
   "execution_count": 670,
   "metadata": {},
   "outputs": [
    {
     "data": {
      "text/html": [
       "<div>\n",
       "<style scoped>\n",
       "    .dataframe tbody tr th:only-of-type {\n",
       "        vertical-align: middle;\n",
       "    }\n",
       "\n",
       "    .dataframe tbody tr th {\n",
       "        vertical-align: top;\n",
       "    }\n",
       "\n",
       "    .dataframe thead th {\n",
       "        text-align: right;\n",
       "    }\n",
       "</style>\n",
       "<table border=\"1\" class=\"dataframe\">\n",
       "  <thead>\n",
       "    <tr style=\"text-align: right;\">\n",
       "      <th></th>\n",
       "      <th>order_id</th>\n",
       "      <th>in_progress</th>\n",
       "      <th>picked</th>\n",
       "      <th>started_dispatch</th>\n",
       "      <th>in_dispatch_buffer</th>\n",
       "      <th>packed</th>\n",
       "      <th>dispatched</th>\n",
       "      <th>order_aborted</th>\n",
       "      <th>order_created_at</th>\n",
       "      <th>delivery_schedule</th>\n",
       "      <th>trip_id</th>\n",
       "      <th>num_of_lines</th>\n",
       "      <th>pr_time</th>\n",
       "      <th>delivered_on</th>\n",
       "    </tr>\n",
       "  </thead>\n",
       "  <tbody>\n",
       "    <tr>\n",
       "      <th>0</th>\n",
       "      <td>2196242</td>\n",
       "      <td>2019-06-10 07:47:39</td>\n",
       "      <td>2019-06-10 07:54:45</td>\n",
       "      <td>2019-06-10 16:04:06</td>\n",
       "      <td>2019-06-10 16:10:43</td>\n",
       "      <td>2019-06-10 16:12:43</td>\n",
       "      <td>2019-06-10 18:21:11</td>\n",
       "      <td>NaT</td>\n",
       "      <td>2019-06-10 05:48:30</td>\n",
       "      <td>2019-06-10 18:00:00</td>\n",
       "      <td>s_2019-06-10_21:00</td>\n",
       "      <td>1.0</td>\n",
       "      <td>0 days 12:32:41</td>\n",
       "      <td>2019-06-10 21:00</td>\n",
       "    </tr>\n",
       "    <tr>\n",
       "      <th>1</th>\n",
       "      <td>2196257</td>\n",
       "      <td>2019-06-10 16:04:27</td>\n",
       "      <td>2019-06-10 16:22:24</td>\n",
       "      <td>2019-06-10 16:26:40</td>\n",
       "      <td>2019-06-10 16:30:34</td>\n",
       "      <td>2019-06-10 16:32:16</td>\n",
       "      <td>2019-06-10 18:21:27</td>\n",
       "      <td>NaT</td>\n",
       "      <td>2019-06-10 16:04:27</td>\n",
       "      <td>2019-06-10 18:00:00</td>\n",
       "      <td>s_2019-06-10_21:00</td>\n",
       "      <td>6.0</td>\n",
       "      <td>0 days 02:17:00</td>\n",
       "      <td>2019-06-10 21:00</td>\n",
       "    </tr>\n",
       "    <tr>\n",
       "      <th>2</th>\n",
       "      <td>2196264</td>\n",
       "      <td>2019-06-11 08:51:24</td>\n",
       "      <td>2019-06-11 08:59:03</td>\n",
       "      <td>2019-06-11 08:59:08</td>\n",
       "      <td>2019-06-11 09:17:23</td>\n",
       "      <td>2019-06-11 09:40:58</td>\n",
       "      <td>2019-06-11 17:52:39</td>\n",
       "      <td>NaT</td>\n",
       "      <td>2019-06-11 08:45:30</td>\n",
       "      <td>2019-06-11 18:00:00</td>\n",
       "      <td>s_2019-06-11_21:00</td>\n",
       "      <td>1.0</td>\n",
       "      <td>0 days 09:07:09</td>\n",
       "      <td>2019-06-11 21:00</td>\n",
       "    </tr>\n",
       "    <tr>\n",
       "      <th>3</th>\n",
       "      <td>2196274</td>\n",
       "      <td>2019-06-11 10:39:54</td>\n",
       "      <td>2019-06-11 10:46:33</td>\n",
       "      <td>2019-06-11 10:51:08</td>\n",
       "      <td>2019-06-11 11:08:23</td>\n",
       "      <td>2019-06-11 11:11:18</td>\n",
       "      <td>2019-06-11 17:52:43</td>\n",
       "      <td>NaT</td>\n",
       "      <td>2019-06-11 10:27:29</td>\n",
       "      <td>2019-06-11 18:00:00</td>\n",
       "      <td>s_2019-06-11_21:00</td>\n",
       "      <td>2.0</td>\n",
       "      <td>0 days 07:25:14</td>\n",
       "      <td>2019-06-11 21:00</td>\n",
       "    </tr>\n",
       "    <tr>\n",
       "      <th>4</th>\n",
       "      <td>2196285</td>\n",
       "      <td>2019-06-12 09:42:21</td>\n",
       "      <td>2019-06-12 09:48:56</td>\n",
       "      <td>2019-06-12 09:49:16</td>\n",
       "      <td>2019-06-12 09:50:24</td>\n",
       "      <td>2019-06-12 10:24:33</td>\n",
       "      <td>2019-06-12 16:14:51</td>\n",
       "      <td>NaT</td>\n",
       "      <td>2019-06-12 06:21:18</td>\n",
       "      <td>2019-06-12 14:00:00</td>\n",
       "      <td>z_2019-06-12_17:00</td>\n",
       "      <td>1.0</td>\n",
       "      <td>0 days 09:53:33</td>\n",
       "      <td>2019-06-12 17:00</td>\n",
       "    </tr>\n",
       "  </tbody>\n",
       "</table>\n",
       "</div>"
      ],
      "text/plain": [
       "  order_id         in_progress              picked    started_dispatch  \\\n",
       "0  2196242 2019-06-10 07:47:39 2019-06-10 07:54:45 2019-06-10 16:04:06   \n",
       "1  2196257 2019-06-10 16:04:27 2019-06-10 16:22:24 2019-06-10 16:26:40   \n",
       "2  2196264 2019-06-11 08:51:24 2019-06-11 08:59:03 2019-06-11 08:59:08   \n",
       "3  2196274 2019-06-11 10:39:54 2019-06-11 10:46:33 2019-06-11 10:51:08   \n",
       "4  2196285 2019-06-12 09:42:21 2019-06-12 09:48:56 2019-06-12 09:49:16   \n",
       "\n",
       "   in_dispatch_buffer              packed          dispatched order_aborted  \\\n",
       "0 2019-06-10 16:10:43 2019-06-10 16:12:43 2019-06-10 18:21:11           NaT   \n",
       "1 2019-06-10 16:30:34 2019-06-10 16:32:16 2019-06-10 18:21:27           NaT   \n",
       "2 2019-06-11 09:17:23 2019-06-11 09:40:58 2019-06-11 17:52:39           NaT   \n",
       "3 2019-06-11 11:08:23 2019-06-11 11:11:18 2019-06-11 17:52:43           NaT   \n",
       "4 2019-06-12 09:50:24 2019-06-12 10:24:33 2019-06-12 16:14:51           NaT   \n",
       "\n",
       "     order_created_at   delivery_schedule             trip_id  num_of_lines  \\\n",
       "0 2019-06-10 05:48:30 2019-06-10 18:00:00  s_2019-06-10_21:00           1.0   \n",
       "1 2019-06-10 16:04:27 2019-06-10 18:00:00  s_2019-06-10_21:00           6.0   \n",
       "2 2019-06-11 08:45:30 2019-06-11 18:00:00  s_2019-06-11_21:00           1.0   \n",
       "3 2019-06-11 10:27:29 2019-06-11 18:00:00  s_2019-06-11_21:00           2.0   \n",
       "4 2019-06-12 06:21:18 2019-06-12 14:00:00  z_2019-06-12_17:00           1.0   \n",
       "\n",
       "          pr_time       delivered_on  \n",
       "0 0 days 12:32:41   2019-06-10 21:00  \n",
       "1 0 days 02:17:00   2019-06-10 21:00  \n",
       "2 0 days 09:07:09   2019-06-11 21:00  \n",
       "3 0 days 07:25:14   2019-06-11 21:00  \n",
       "4 0 days 09:53:33   2019-06-12 17:00  "
      ]
     },
     "execution_count": 670,
     "metadata": {},
     "output_type": "execute_result"
    }
   ],
   "source": [
    "merged_df.head()"
   ]
  },
  {
   "cell_type": "code",
   "execution_count": 671,
   "metadata": {},
   "outputs": [
    {
     "name": "stdout",
     "output_type": "stream",
     "text": [
      "<class 'pandas.core.frame.DataFrame'>\n",
      "Int64Index: 704 entries, 0 to 732\n",
      "Data columns (total 14 columns):\n",
      " #   Column              Non-Null Count  Dtype          \n",
      "---  ------              --------------  -----          \n",
      " 0   order_id            704 non-null    object         \n",
      " 1   in_progress         704 non-null    datetime64[ns] \n",
      " 2   picked              704 non-null    datetime64[ns] \n",
      " 3   started_dispatch    703 non-null    datetime64[ns] \n",
      " 4   in_dispatch_buffer  704 non-null    datetime64[ns] \n",
      " 5   packed              704 non-null    datetime64[ns] \n",
      " 6   dispatched          704 non-null    datetime64[ns] \n",
      " 7   order_aborted       0 non-null      datetime64[ns] \n",
      " 8   order_created_at    704 non-null    datetime64[ns] \n",
      " 9   delivery_schedule   704 non-null    datetime64[ns] \n",
      " 10  trip_id             704 non-null    object         \n",
      " 11  num_of_lines        704 non-null    float64        \n",
      " 12  pr_time             704 non-null    timedelta64[ns]\n",
      " 13  delivered_on        704 non-null    object         \n",
      "dtypes: datetime64[ns](9), float64(1), object(3), timedelta64[ns](1)\n",
      "memory usage: 82.5+ KB\n"
     ]
    }
   ],
   "source": [
    "merged_df.info()"
   ]
  },
  {
   "cell_type": "markdown",
   "metadata": {},
   "source": [
    "#### <font color=magenta>step 3: Converting the new column to datime</font>"
   ]
  },
  {
   "cell_type": "code",
   "execution_count": 672,
   "metadata": {},
   "outputs": [],
   "source": [
    "merged_df['delivered_on'] = pd.to_datetime(merged_df['delivered_on'])"
   ]
  },
  {
   "cell_type": "code",
   "execution_count": 674,
   "metadata": {},
   "outputs": [],
   "source": [
    "assert merged_df['delivered_on'].dtype=='datetime64[ns]'"
   ]
  },
  {
   "cell_type": "code",
   "execution_count": 676,
   "metadata": {},
   "outputs": [],
   "source": [
    "merged_df['delivered_time']=merged_df['delivered_on']-merged_df['order_created_at']"
   ]
  },
  {
   "cell_type": "code",
   "execution_count": 720,
   "metadata": {},
   "outputs": [
    {
     "data": {
      "text/html": [
       "<div>\n",
       "<style scoped>\n",
       "    .dataframe tbody tr th:only-of-type {\n",
       "        vertical-align: middle;\n",
       "    }\n",
       "\n",
       "    .dataframe tbody tr th {\n",
       "        vertical-align: top;\n",
       "    }\n",
       "\n",
       "    .dataframe thead th {\n",
       "        text-align: right;\n",
       "    }\n",
       "</style>\n",
       "<table border=\"1\" class=\"dataframe\">\n",
       "  <thead>\n",
       "    <tr style=\"text-align: right;\">\n",
       "      <th></th>\n",
       "      <th>order_id</th>\n",
       "      <th>in_progress</th>\n",
       "      <th>picked</th>\n",
       "      <th>started_dispatch</th>\n",
       "      <th>in_dispatch_buffer</th>\n",
       "      <th>packed</th>\n",
       "      <th>dispatched</th>\n",
       "      <th>order_aborted</th>\n",
       "      <th>order_created_at</th>\n",
       "      <th>delivery_schedule</th>\n",
       "      <th>trip_id</th>\n",
       "      <th>num_of_lines</th>\n",
       "      <th>pr_time</th>\n",
       "      <th>delivered_on</th>\n",
       "      <th>delivered_time</th>\n",
       "    </tr>\n",
       "  </thead>\n",
       "  <tbody>\n",
       "    <tr>\n",
       "      <th>0</th>\n",
       "      <td>2196242</td>\n",
       "      <td>2019-06-10 07:47:39</td>\n",
       "      <td>2019-06-10 07:54:45</td>\n",
       "      <td>2019-06-10 16:04:06</td>\n",
       "      <td>2019-06-10 16:10:43</td>\n",
       "      <td>2019-06-10 16:12:43</td>\n",
       "      <td>2019-06-10 18:21:11</td>\n",
       "      <td>NaT</td>\n",
       "      <td>2019-06-10 05:48:30</td>\n",
       "      <td>2019-06-10 18:00:00</td>\n",
       "      <td>s_2019-06-10_21:00</td>\n",
       "      <td>1.0</td>\n",
       "      <td>0 days 12:32:41</td>\n",
       "      <td>2019-06-10 21:00:00</td>\n",
       "      <td>0 days 15:11:30</td>\n",
       "    </tr>\n",
       "    <tr>\n",
       "      <th>1</th>\n",
       "      <td>2196257</td>\n",
       "      <td>2019-06-10 16:04:27</td>\n",
       "      <td>2019-06-10 16:22:24</td>\n",
       "      <td>2019-06-10 16:26:40</td>\n",
       "      <td>2019-06-10 16:30:34</td>\n",
       "      <td>2019-06-10 16:32:16</td>\n",
       "      <td>2019-06-10 18:21:27</td>\n",
       "      <td>NaT</td>\n",
       "      <td>2019-06-10 16:04:27</td>\n",
       "      <td>2019-06-10 18:00:00</td>\n",
       "      <td>s_2019-06-10_21:00</td>\n",
       "      <td>6.0</td>\n",
       "      <td>0 days 02:17:00</td>\n",
       "      <td>2019-06-10 21:00:00</td>\n",
       "      <td>0 days 04:55:33</td>\n",
       "    </tr>\n",
       "    <tr>\n",
       "      <th>2</th>\n",
       "      <td>2196264</td>\n",
       "      <td>2019-06-11 08:51:24</td>\n",
       "      <td>2019-06-11 08:59:03</td>\n",
       "      <td>2019-06-11 08:59:08</td>\n",
       "      <td>2019-06-11 09:17:23</td>\n",
       "      <td>2019-06-11 09:40:58</td>\n",
       "      <td>2019-06-11 17:52:39</td>\n",
       "      <td>NaT</td>\n",
       "      <td>2019-06-11 08:45:30</td>\n",
       "      <td>2019-06-11 18:00:00</td>\n",
       "      <td>s_2019-06-11_21:00</td>\n",
       "      <td>1.0</td>\n",
       "      <td>0 days 09:07:09</td>\n",
       "      <td>2019-06-11 21:00:00</td>\n",
       "      <td>0 days 12:14:30</td>\n",
       "    </tr>\n",
       "    <tr>\n",
       "      <th>3</th>\n",
       "      <td>2196274</td>\n",
       "      <td>2019-06-11 10:39:54</td>\n",
       "      <td>2019-06-11 10:46:33</td>\n",
       "      <td>2019-06-11 10:51:08</td>\n",
       "      <td>2019-06-11 11:08:23</td>\n",
       "      <td>2019-06-11 11:11:18</td>\n",
       "      <td>2019-06-11 17:52:43</td>\n",
       "      <td>NaT</td>\n",
       "      <td>2019-06-11 10:27:29</td>\n",
       "      <td>2019-06-11 18:00:00</td>\n",
       "      <td>s_2019-06-11_21:00</td>\n",
       "      <td>2.0</td>\n",
       "      <td>0 days 07:25:14</td>\n",
       "      <td>2019-06-11 21:00:00</td>\n",
       "      <td>0 days 10:32:31</td>\n",
       "    </tr>\n",
       "    <tr>\n",
       "      <th>4</th>\n",
       "      <td>2196285</td>\n",
       "      <td>2019-06-12 09:42:21</td>\n",
       "      <td>2019-06-12 09:48:56</td>\n",
       "      <td>2019-06-12 09:49:16</td>\n",
       "      <td>2019-06-12 09:50:24</td>\n",
       "      <td>2019-06-12 10:24:33</td>\n",
       "      <td>2019-06-12 16:14:51</td>\n",
       "      <td>NaT</td>\n",
       "      <td>2019-06-12 06:21:18</td>\n",
       "      <td>2019-06-12 14:00:00</td>\n",
       "      <td>z_2019-06-12_17:00</td>\n",
       "      <td>1.0</td>\n",
       "      <td>0 days 09:53:33</td>\n",
       "      <td>2019-06-12 17:00:00</td>\n",
       "      <td>0 days 10:38:42</td>\n",
       "    </tr>\n",
       "  </tbody>\n",
       "</table>\n",
       "</div>"
      ],
      "text/plain": [
       "  order_id         in_progress              picked    started_dispatch  \\\n",
       "0  2196242 2019-06-10 07:47:39 2019-06-10 07:54:45 2019-06-10 16:04:06   \n",
       "1  2196257 2019-06-10 16:04:27 2019-06-10 16:22:24 2019-06-10 16:26:40   \n",
       "2  2196264 2019-06-11 08:51:24 2019-06-11 08:59:03 2019-06-11 08:59:08   \n",
       "3  2196274 2019-06-11 10:39:54 2019-06-11 10:46:33 2019-06-11 10:51:08   \n",
       "4  2196285 2019-06-12 09:42:21 2019-06-12 09:48:56 2019-06-12 09:49:16   \n",
       "\n",
       "   in_dispatch_buffer              packed          dispatched order_aborted  \\\n",
       "0 2019-06-10 16:10:43 2019-06-10 16:12:43 2019-06-10 18:21:11           NaT   \n",
       "1 2019-06-10 16:30:34 2019-06-10 16:32:16 2019-06-10 18:21:27           NaT   \n",
       "2 2019-06-11 09:17:23 2019-06-11 09:40:58 2019-06-11 17:52:39           NaT   \n",
       "3 2019-06-11 11:08:23 2019-06-11 11:11:18 2019-06-11 17:52:43           NaT   \n",
       "4 2019-06-12 09:50:24 2019-06-12 10:24:33 2019-06-12 16:14:51           NaT   \n",
       "\n",
       "     order_created_at   delivery_schedule             trip_id  num_of_lines  \\\n",
       "0 2019-06-10 05:48:30 2019-06-10 18:00:00  s_2019-06-10_21:00           1.0   \n",
       "1 2019-06-10 16:04:27 2019-06-10 18:00:00  s_2019-06-10_21:00           6.0   \n",
       "2 2019-06-11 08:45:30 2019-06-11 18:00:00  s_2019-06-11_21:00           1.0   \n",
       "3 2019-06-11 10:27:29 2019-06-11 18:00:00  s_2019-06-11_21:00           2.0   \n",
       "4 2019-06-12 06:21:18 2019-06-12 14:00:00  z_2019-06-12_17:00           1.0   \n",
       "\n",
       "          pr_time        delivered_on  delivered_time  \n",
       "0 0 days 12:32:41 2019-06-10 21:00:00 0 days 15:11:30  \n",
       "1 0 days 02:17:00 2019-06-10 21:00:00 0 days 04:55:33  \n",
       "2 0 days 09:07:09 2019-06-11 21:00:00 0 days 12:14:30  \n",
       "3 0 days 07:25:14 2019-06-11 21:00:00 0 days 10:32:31  \n",
       "4 0 days 09:53:33 2019-06-12 17:00:00 0 days 10:38:42  "
      ]
     },
     "execution_count": 720,
     "metadata": {},
     "output_type": "execute_result"
    }
   ],
   "source": [
    "merged_df.head()"
   ]
  },
  {
   "cell_type": "markdown",
   "metadata": {},
   "source": [
    "#### <font color=magenta>step 4: Calculating the KPI's</font>"
   ]
  },
  {
   "cell_type": "code",
   "execution_count": 680,
   "metadata": {},
   "outputs": [],
   "source": [
    "import numpy as np"
   ]
  },
  {
   "cell_type": "code",
   "execution_count": 681,
   "metadata": {},
   "outputs": [],
   "source": [
    "def iqr(column):\n",
    "    return column.quantile(0.75)-column.quantile(0.25)"
   ]
  },
  {
   "cell_type": "code",
   "execution_count": 683,
   "metadata": {},
   "outputs": [
    {
     "name": "stdout",
     "output_type": "stream",
     "text": [
      "iqr                0 days 09:10:24\n",
      "median      0 days 11:50:29.500000\n",
      "mean     0 days 13:31:20.964488636\n",
      "Name: delivered_time, dtype: timedelta64[ns]\n"
     ]
    }
   ],
   "source": [
    "print(merged_df['delivered_time'].agg([iqr,np.median,np.mean]))"
   ]
  },
  {
   "cell_type": "code",
   "execution_count": 759,
   "metadata": {},
   "outputs": [
    {
     "name": "stdout",
     "output_type": "stream",
     "text": [
      "min   0 days 03:48:05\n",
      "max   1 days 03:55:34\n",
      "Name: delivered_time, dtype: timedelta64[ns]\n"
     ]
    }
   ],
   "source": [
    "print(merged_df['delivered_time'].agg([min,max]))"
   ]
  },
  {
   "cell_type": "markdown",
   "metadata": {},
   "source": [
    "#### interquartile range or the measure of spread is close to the mean and the median\n",
    "#### _The spread of delivery time is not large, that means that the different carriers distributing the packages are completing the distribution more or less in the same time interval_\n",
    "#### <font color=orange>__There is no advantage or diadvantage of on carries over the other__</font>"
   ]
  },
  {
   "cell_type": "code",
   "execution_count": 725,
   "metadata": {},
   "outputs": [],
   "source": [
    "import numpy as np\n",
    "import time\n",
    "import datetime as dt\n",
    "import matplotlib.pyplot as plt\n",
    "import seaborn as sns"
   ]
  },
  {
   "cell_type": "code",
   "execution_count": 722,
   "metadata": {},
   "outputs": [],
   "source": [
    "merged_df['delivered_time_hours'] = merged_df['delivered_time'] / np.timedelta64(1, 'h')"
   ]
  },
  {
   "cell_type": "code",
   "execution_count": 723,
   "metadata": {},
   "outputs": [
    {
     "data": {
      "text/html": [
       "<div>\n",
       "<style scoped>\n",
       "    .dataframe tbody tr th:only-of-type {\n",
       "        vertical-align: middle;\n",
       "    }\n",
       "\n",
       "    .dataframe tbody tr th {\n",
       "        vertical-align: top;\n",
       "    }\n",
       "\n",
       "    .dataframe thead th {\n",
       "        text-align: right;\n",
       "    }\n",
       "</style>\n",
       "<table border=\"1\" class=\"dataframe\">\n",
       "  <thead>\n",
       "    <tr style=\"text-align: right;\">\n",
       "      <th></th>\n",
       "      <th>order_id</th>\n",
       "      <th>in_progress</th>\n",
       "      <th>picked</th>\n",
       "      <th>started_dispatch</th>\n",
       "      <th>in_dispatch_buffer</th>\n",
       "      <th>packed</th>\n",
       "      <th>dispatched</th>\n",
       "      <th>order_aborted</th>\n",
       "      <th>order_created_at</th>\n",
       "      <th>delivery_schedule</th>\n",
       "      <th>trip_id</th>\n",
       "      <th>num_of_lines</th>\n",
       "      <th>pr_time</th>\n",
       "      <th>delivered_on</th>\n",
       "      <th>delivered_time</th>\n",
       "      <th>delivered_time_hours</th>\n",
       "    </tr>\n",
       "  </thead>\n",
       "  <tbody>\n",
       "    <tr>\n",
       "      <th>0</th>\n",
       "      <td>2196242</td>\n",
       "      <td>2019-06-10 07:47:39</td>\n",
       "      <td>2019-06-10 07:54:45</td>\n",
       "      <td>2019-06-10 16:04:06</td>\n",
       "      <td>2019-06-10 16:10:43</td>\n",
       "      <td>2019-06-10 16:12:43</td>\n",
       "      <td>2019-06-10 18:21:11</td>\n",
       "      <td>NaT</td>\n",
       "      <td>2019-06-10 05:48:30</td>\n",
       "      <td>2019-06-10 18:00:00</td>\n",
       "      <td>s_2019-06-10_21:00</td>\n",
       "      <td>1.0</td>\n",
       "      <td>0 days 12:32:41</td>\n",
       "      <td>2019-06-10 21:00:00</td>\n",
       "      <td>0 days 15:11:30</td>\n",
       "      <td>15.191667</td>\n",
       "    </tr>\n",
       "    <tr>\n",
       "      <th>1</th>\n",
       "      <td>2196257</td>\n",
       "      <td>2019-06-10 16:04:27</td>\n",
       "      <td>2019-06-10 16:22:24</td>\n",
       "      <td>2019-06-10 16:26:40</td>\n",
       "      <td>2019-06-10 16:30:34</td>\n",
       "      <td>2019-06-10 16:32:16</td>\n",
       "      <td>2019-06-10 18:21:27</td>\n",
       "      <td>NaT</td>\n",
       "      <td>2019-06-10 16:04:27</td>\n",
       "      <td>2019-06-10 18:00:00</td>\n",
       "      <td>s_2019-06-10_21:00</td>\n",
       "      <td>6.0</td>\n",
       "      <td>0 days 02:17:00</td>\n",
       "      <td>2019-06-10 21:00:00</td>\n",
       "      <td>0 days 04:55:33</td>\n",
       "      <td>4.925833</td>\n",
       "    </tr>\n",
       "    <tr>\n",
       "      <th>2</th>\n",
       "      <td>2196264</td>\n",
       "      <td>2019-06-11 08:51:24</td>\n",
       "      <td>2019-06-11 08:59:03</td>\n",
       "      <td>2019-06-11 08:59:08</td>\n",
       "      <td>2019-06-11 09:17:23</td>\n",
       "      <td>2019-06-11 09:40:58</td>\n",
       "      <td>2019-06-11 17:52:39</td>\n",
       "      <td>NaT</td>\n",
       "      <td>2019-06-11 08:45:30</td>\n",
       "      <td>2019-06-11 18:00:00</td>\n",
       "      <td>s_2019-06-11_21:00</td>\n",
       "      <td>1.0</td>\n",
       "      <td>0 days 09:07:09</td>\n",
       "      <td>2019-06-11 21:00:00</td>\n",
       "      <td>0 days 12:14:30</td>\n",
       "      <td>12.241667</td>\n",
       "    </tr>\n",
       "    <tr>\n",
       "      <th>3</th>\n",
       "      <td>2196274</td>\n",
       "      <td>2019-06-11 10:39:54</td>\n",
       "      <td>2019-06-11 10:46:33</td>\n",
       "      <td>2019-06-11 10:51:08</td>\n",
       "      <td>2019-06-11 11:08:23</td>\n",
       "      <td>2019-06-11 11:11:18</td>\n",
       "      <td>2019-06-11 17:52:43</td>\n",
       "      <td>NaT</td>\n",
       "      <td>2019-06-11 10:27:29</td>\n",
       "      <td>2019-06-11 18:00:00</td>\n",
       "      <td>s_2019-06-11_21:00</td>\n",
       "      <td>2.0</td>\n",
       "      <td>0 days 07:25:14</td>\n",
       "      <td>2019-06-11 21:00:00</td>\n",
       "      <td>0 days 10:32:31</td>\n",
       "      <td>10.541944</td>\n",
       "    </tr>\n",
       "    <tr>\n",
       "      <th>4</th>\n",
       "      <td>2196285</td>\n",
       "      <td>2019-06-12 09:42:21</td>\n",
       "      <td>2019-06-12 09:48:56</td>\n",
       "      <td>2019-06-12 09:49:16</td>\n",
       "      <td>2019-06-12 09:50:24</td>\n",
       "      <td>2019-06-12 10:24:33</td>\n",
       "      <td>2019-06-12 16:14:51</td>\n",
       "      <td>NaT</td>\n",
       "      <td>2019-06-12 06:21:18</td>\n",
       "      <td>2019-06-12 14:00:00</td>\n",
       "      <td>z_2019-06-12_17:00</td>\n",
       "      <td>1.0</td>\n",
       "      <td>0 days 09:53:33</td>\n",
       "      <td>2019-06-12 17:00:00</td>\n",
       "      <td>0 days 10:38:42</td>\n",
       "      <td>10.645000</td>\n",
       "    </tr>\n",
       "  </tbody>\n",
       "</table>\n",
       "</div>"
      ],
      "text/plain": [
       "  order_id         in_progress              picked    started_dispatch  \\\n",
       "0  2196242 2019-06-10 07:47:39 2019-06-10 07:54:45 2019-06-10 16:04:06   \n",
       "1  2196257 2019-06-10 16:04:27 2019-06-10 16:22:24 2019-06-10 16:26:40   \n",
       "2  2196264 2019-06-11 08:51:24 2019-06-11 08:59:03 2019-06-11 08:59:08   \n",
       "3  2196274 2019-06-11 10:39:54 2019-06-11 10:46:33 2019-06-11 10:51:08   \n",
       "4  2196285 2019-06-12 09:42:21 2019-06-12 09:48:56 2019-06-12 09:49:16   \n",
       "\n",
       "   in_dispatch_buffer              packed          dispatched order_aborted  \\\n",
       "0 2019-06-10 16:10:43 2019-06-10 16:12:43 2019-06-10 18:21:11           NaT   \n",
       "1 2019-06-10 16:30:34 2019-06-10 16:32:16 2019-06-10 18:21:27           NaT   \n",
       "2 2019-06-11 09:17:23 2019-06-11 09:40:58 2019-06-11 17:52:39           NaT   \n",
       "3 2019-06-11 11:08:23 2019-06-11 11:11:18 2019-06-11 17:52:43           NaT   \n",
       "4 2019-06-12 09:50:24 2019-06-12 10:24:33 2019-06-12 16:14:51           NaT   \n",
       "\n",
       "     order_created_at   delivery_schedule             trip_id  num_of_lines  \\\n",
       "0 2019-06-10 05:48:30 2019-06-10 18:00:00  s_2019-06-10_21:00           1.0   \n",
       "1 2019-06-10 16:04:27 2019-06-10 18:00:00  s_2019-06-10_21:00           6.0   \n",
       "2 2019-06-11 08:45:30 2019-06-11 18:00:00  s_2019-06-11_21:00           1.0   \n",
       "3 2019-06-11 10:27:29 2019-06-11 18:00:00  s_2019-06-11_21:00           2.0   \n",
       "4 2019-06-12 06:21:18 2019-06-12 14:00:00  z_2019-06-12_17:00           1.0   \n",
       "\n",
       "          pr_time        delivered_on  delivered_time  delivered_time_hours  \n",
       "0 0 days 12:32:41 2019-06-10 21:00:00 0 days 15:11:30             15.191667  \n",
       "1 0 days 02:17:00 2019-06-10 21:00:00 0 days 04:55:33              4.925833  \n",
       "2 0 days 09:07:09 2019-06-11 21:00:00 0 days 12:14:30             12.241667  \n",
       "3 0 days 07:25:14 2019-06-11 21:00:00 0 days 10:32:31             10.541944  \n",
       "4 0 days 09:53:33 2019-06-12 17:00:00 0 days 10:38:42             10.645000  "
      ]
     },
     "execution_count": 723,
     "metadata": {},
     "output_type": "execute_result"
    }
   ],
   "source": [
    "merged_df.head()"
   ]
  },
  {
   "cell_type": "code",
   "execution_count": 724,
   "metadata": {},
   "outputs": [
    {
     "data": {
      "text/plain": [
       "<AxesSubplot:>"
      ]
     },
     "execution_count": 724,
     "metadata": {},
     "output_type": "execute_result"
    },
    {
     "data": {
      "image/png": "[encoded data removed]",
      "text/plain": [
       "<Figure size 432x288 with 1 Axes>"
      ]
     },
     "metadata": {
      "needs_background": "light"
     },
     "output_type": "display_data"
    }
   ],
   "source": [
    "merged_df.boxplot(column=['delivered_time_hours'], \n",
    "                       grid=False)"
   ]
  },
  {
   "cell_type": "code",
   "execution_count": 733,
   "metadata": {},
   "outputs": [
    {
     "data": {
      "image/png": "[encoded data removed]",
      "text/plain": [
       "<Figure size 432x288 with 1 Axes>"
      ]
     },
     "metadata": {
      "needs_background": "light"
     },
     "output_type": "display_data"
    }
   ],
   "source": [
    "bplot = sns.boxplot(y='delivered_time_hours', \n",
    "                 data=merged_df, \n",
    "                 width=0.5,\n",
    "                 palette=\"colorblind\")"
   ]
  },
  {
   "cell_type": "code",
   "execution_count": 734,
   "metadata": {},
   "outputs": [],
   "source": [
    "plot_file_name=\"boxplot_and_swarmplot_with_seaborn.jpg\"\n",
    " \n",
    "# save as jpeg\n",
    "bplot.figure.savefig(plot_file_name,\n",
    "                    format='jpeg',\n",
    "                    dpi=100)"
   ]
  },
  {
   "cell_type": "markdown",
   "metadata": {},
   "source": [
    "## Question 3b \n",
    "### KPI - Maximum, minimum and average number of unique items in one order"
   ]
  },
  {
   "cell_type": "code",
   "execution_count": 739,
   "metadata": {},
   "outputs": [],
   "source": [
    "merged_df['num_of_lines']=merged_df['num_of_lines'].astype(int)"
   ]
  },
  {
   "cell_type": "code",
   "execution_count": 740,
   "metadata": {},
   "outputs": [
    {
     "name": "stdout",
     "output_type": "stream",
     "text": [
      "<class 'pandas.core.frame.DataFrame'>\n",
      "Int64Index: 704 entries, 0 to 732\n",
      "Data columns (total 16 columns):\n",
      " #   Column                Non-Null Count  Dtype          \n",
      "---  ------                --------------  -----          \n",
      " 0   order_id              704 non-null    object         \n",
      " 1   in_progress           704 non-null    datetime64[ns] \n",
      " 2   picked                704 non-null    datetime64[ns] \n",
      " 3   started_dispatch      703 non-null    datetime64[ns] \n",
      " 4   in_dispatch_buffer    704 non-null    datetime64[ns] \n",
      " 5   packed                704 non-null    datetime64[ns] \n",
      " 6   dispatched            704 non-null    datetime64[ns] \n",
      " 7   order_aborted         0 non-null      datetime64[ns] \n",
      " 8   order_created_at      704 non-null    datetime64[ns] \n",
      " 9   delivery_schedule     704 non-null    datetime64[ns] \n",
      " 10  trip_id               704 non-null    object         \n",
      " 11  num_of_lines          704 non-null    int32          \n",
      " 12  pr_time               704 non-null    timedelta64[ns]\n",
      " 13  delivered_on          704 non-null    datetime64[ns] \n",
      " 14  delivered_time        704 non-null    timedelta64[ns]\n",
      " 15  delivered_time_hours  704 non-null    float64        \n",
      "dtypes: datetime64[ns](10), float64(1), int32(1), object(2), timedelta64[ns](2)\n",
      "memory usage: 90.8+ KB\n"
     ]
    }
   ],
   "source": [
    "merged_df.info()"
   ]
  },
  {
   "cell_type": "code",
   "execution_count": 749,
   "metadata": {},
   "outputs": [
    {
     "name": "stdout",
     "output_type": "stream",
     "text": [
      "min      1.000000\n",
      "max     30.000000\n",
      "mean     6.413352\n",
      "Name: num_of_lines, dtype: float64\n"
     ]
    }
   ],
   "source": [
    "print(merged_df['num_of_lines'].agg([min,max,np.mean]))"
   ]
  },
  {
   "cell_type": "code",
   "execution_count": 758,
   "metadata": {},
   "outputs": [
    {
     "data": {
      "image/png": "[encoded data removed]",
      "text/plain": [
       "<Figure size 720x576 with 1 Axes>"
      ]
     },
     "metadata": {
      "needs_background": "light"
     },
     "output_type": "display_data"
    }
   ],
   "source": [
    "plt.figure(figsize=[10,8])\n",
    "n, bins, patches = plt.hist(x=merged_df['num_of_lines'], bins=8, color='#0504aa',alpha=0.7, rwidth=0.85)\n",
    "plt.grid(axis='y', alpha=0.75)\n",
    "plt.xlabel('unique items',fontsize=15)\n",
    "plt.ylabel('orders',fontsize=15)\n",
    "plt.xticks(fontsize=15)\n",
    "plt.xticks(np.arange(0, 31, 2))\n",
    "plt.yticks(fontsize=15)\n",
    "plt.title('Distribution of number of items ordered',fontsize=15)\n",
    "plt.show()"
   ]
  }
 ],
 "metadata": {
  "kernelspec": {
   "display_name": "Python 3",
   "language": "python",
   "name": "python3"
  },
  "language_info": {
   "codemirror_mode": {
    "name": "ipython",
    "version": 3
   },
   "file_extension": ".py",
   "mimetype": "text/x-python",
   "name": "python",
   "nbconvert_exporter": "python",
   "pygments_lexer": "ipython3",
   "version": "3.7.3"
  }
 },
 "nbformat": 4,
 "nbformat_minor": 4
}
